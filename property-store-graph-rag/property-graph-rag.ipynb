{
 "cells": [
  {
   "cell_type": "code",
   "execution_count": 1,
   "metadata": {},
   "outputs": [],
   "source": [
    "from llama_index.core import SimpleDirectoryReader, StorageContext, load_index_from_storage, Settings\n",
    "import os\n",
    "from dotenv import load_dotenv\n",
    "load_dotenv()\n",
    "import nest_asyncio\n",
    "\n",
    "nest_asyncio.apply()"
   ]
  },
  {
   "cell_type": "code",
   "execution_count": 3,
   "metadata": {},
   "outputs": [],
   "source": [
    "documents = SimpleDirectoryReader(\"data/\").load_data()"
   ]
  },
  {
   "cell_type": "code",
   "execution_count": 4,
   "metadata": {},
   "outputs": [],
   "source": [
    "username = os.getenv(\"NEO4J_USERNAME\")\n",
    "password = os.getenv(\"NEO4J_PASSWORD\")\n",
    "url = os.getenv(\"NEO4J_URI\")"
   ]
  },
  {
   "cell_type": "code",
   "execution_count": 5,
   "metadata": {},
   "outputs": [
    {
     "name": "stderr",
     "output_type": "stream",
     "text": [
      "Received notification from DBMS server: {severity: WARNING} {code: Neo.ClientNotification.Statement.FeatureDeprecationWarning} {category: DEPRECATION} {title: This feature is deprecated and will be removed in future versions.} {description: The procedure has a deprecated field. ('config' used by 'apoc.meta.graphSample' is deprecated.)} {position: line: 1, column: 1, offset: 0} for query: \"CALL apoc.meta.graphSample() YIELD nodes, relationships RETURN nodes, [rel in relationships | {name:apoc.any.property(rel, 'type'), count: apoc.any.property(rel, 'count')}] AS relationships\"\n"
     ]
    }
   ],
   "source": [
    "from llama_index.core import PropertyGraphIndex\n",
    "from llama_index.embeddings.openai import OpenAIEmbedding\n",
    "from llama_index.llms.openai import OpenAI\n",
    "from llama_index.core.indices.property_graph import SchemaLLMPathExtractor\n",
    "from llama_index.graph_stores.neo4j import Neo4jPropertyGraphStore\n",
    "from IPython.display import Markdown, display\n",
    "\n",
    "graph_store = Neo4jPropertyGraphStore(\n",
    "    username=username,\n",
    "    password=password,\n",
    "    url=url,\n",
    ")"
   ]
  },
  {
   "cell_type": "code",
   "execution_count": 6,
   "metadata": {},
   "outputs": [],
   "source": [
    "storage_context = StorageContext.from_defaults(\n",
    "    graph_store=graph_store\n",
    ")"
   ]
  },
  {
   "cell_type": "code",
   "execution_count": 7,
   "metadata": {},
   "outputs": [],
   "source": [
    "llm=OpenAI(model=\"gpt-4o-mini\", temperature=0.3)\n",
    "Settings.llm = llm\n",
    "\n",
    "embed_model=OpenAIEmbedding(model_name=\"text-embedding-3-small\")\n",
    "Settings.embed_model = embed_model\n"
   ]
  },
  {
   "cell_type": "code",
   "execution_count": 8,
   "metadata": {},
   "outputs": [
    {
     "name": "stderr",
     "output_type": "stream",
     "text": [
      "c:\\Users\\jayit\\GCCD\\triplet-store-graph-rag\\venv\\lib\\site-packages\\tqdm\\auto.py:21: TqdmWarning: IProgress not found. Please update jupyter and ipywidgets. See https://ipywidgets.readthedocs.io/en/stable/user_install.html\n",
      "  from .autonotebook import tqdm as notebook_tqdm\n",
      "Parsing nodes: 100%|██████████| 40/40 [00:00<00:00, 318.77it/s]\n",
      "Extracting paths from text: 100%|██████████| 56/56 [00:30<00:00,  1.84it/s]\n",
      "Extracting implicit paths: 100%|██████████| 56/56 [00:00<00:00, 3585.86it/s]\n",
      "Generating embeddings: 100%|██████████| 1/1 [00:03<00:00,  3.34s/it]\n",
      "Generating embeddings: 100%|██████████| 11/11 [00:12<00:00,  1.14s/it]\n",
      "Received notification from DBMS server: {severity: WARNING} {code: Neo.ClientNotification.Statement.FeatureDeprecationWarning} {category: DEPRECATION} {title: This feature is deprecated and will be removed in future versions.} {description: CALL subquery without a variable scope clause is now deprecated. Use CALL (e, row) { ... }} {position: line: 10, column: 21, offset: 397} for query: \"\\n                    UNWIND $data AS row\\n                    MERGE (e:__Node__ {id: row.id})\\n                    SET e += apoc.map.clean(row.properties, [], [])\\n                    SET e.name = row.name, e:`__Entity__`\\n                    WITH e, row\\n                    CALL apoc.create.addLabels(e, [row.label])\\n                    YIELD node\\n                    WITH e, row\\n                    CALL {\\n                        WITH e, row\\n                        WITH e, row\\n                        WHERE row.embedding IS NOT NULL\\n                        CALL db.create.setNodeVectorProperty(e, 'embedding', row.embedding)\\n                        RETURN count(*) AS count\\n                    }\\n                    WITH e, row WHERE row.properties.triplet_source_id IS NOT NULL\\n                    MERGE (c:__Node__ {id: row.properties.triplet_source_id})\\n                    MERGE (e)<-[:MENTIONS]-(c)\\n                    \"\n",
      "Received notification from DBMS server: {severity: WARNING} {code: Neo.ClientNotification.Statement.FeatureDeprecationWarning} {category: DEPRECATION} {title: This feature is deprecated and will be removed in future versions.} {description: CALL subquery without a variable scope clause is now deprecated. Use CALL (e, row) { ... }} {position: line: 10, column: 21, offset: 397} for query: \"\\n                    UNWIND $data AS row\\n                    MERGE (e:__Node__ {id: row.id})\\n                    SET e += apoc.map.clean(row.properties, [], [])\\n                    SET e.name = row.name, e:`__Entity__`\\n                    WITH e, row\\n                    CALL apoc.create.addLabels(e, [row.label])\\n                    YIELD node\\n                    WITH e, row\\n                    CALL {\\n                        WITH e, row\\n                        WITH e, row\\n                        WHERE row.embedding IS NOT NULL\\n                        CALL db.create.setNodeVectorProperty(e, 'embedding', row.embedding)\\n                        RETURN count(*) AS count\\n                    }\\n                    WITH e, row WHERE row.properties.triplet_source_id IS NOT NULL\\n                    MERGE (c:__Node__ {id: row.properties.triplet_source_id})\\n                    MERGE (e)<-[:MENTIONS]-(c)\\n                    \"\n",
      "Received notification from DBMS server: {severity: WARNING} {code: Neo.ClientNotification.Statement.FeatureDeprecationWarning} {category: DEPRECATION} {title: This feature is deprecated and will be removed in future versions.} {description: The procedure has a deprecated field. ('config' used by 'apoc.meta.graphSample' is deprecated.)} {position: line: 1, column: 1, offset: 0} for query: \"CALL apoc.meta.graphSample() YIELD nodes, relationships RETURN nodes, [rel in relationships | {name:apoc.any.property(rel, 'type'), count: apoc.any.property(rel, 'count')}] AS relationships\"\n"
     ]
    }
   ],
   "source": [
    "index_pg = PropertyGraphIndex.from_documents(\n",
    "    documents,\n",
    "    llm=llm,\n",
    "    embed_model=embed_model,\n",
    "    show_progress=True,\n",
    "    property_graph_store=graph_store,\n",
    "    storage_context=storage_context,\n",
    ")"
   ]
  },
  {
   "cell_type": "code",
   "execution_count": 9,
   "metadata": {},
   "outputs": [],
   "source": [
    "index_pg.storage_context.persist(persist_dir=\"./pg-storage\")\n",
    "index_pg = load_index_from_storage(storage_context)"
   ]
  },
  {
   "cell_type": "code",
   "execution_count": 10,
   "metadata": {},
   "outputs": [
    {
     "name": "stdout",
     "output_type": "stream",
     "text": [
      "Rag ({'creation_date': '2024-09-04', 'last_modified_date': '2024-08-28', 'file_size': 1750518, 'file_path': 'c:\\\\Users\\\\jayit\\\\GCCD\\\\triplet-store-graph-rag\\\\data\\\\Graph_Retrieval-Augmented_Generation_A_Survey.pdf', 'name': 'Rag', 'file_name': 'Graph_Retrieval-Augmented_Generation_A_Survey.pdf', 'page_label': '4', 'triplet_source_id': '77fa7ee5-02b6-4108-be84-de699704cffd', 'file_type': 'application/pdf'}) -> Combines ({'creation_date': '2024-09-04', 'last_modified_date': '2024-08-28', 'file_size': 1750518, 'file_path': 'c:\\\\Users\\\\jayit\\\\GCCD\\\\triplet-store-graph-rag\\\\data\\\\Graph_Retrieval-Augmented_Generation_A_Survey.pdf', 'file_name': 'Graph_Retrieval-Augmented_Generation_A_Survey.pdf', 'page_label': '4', 'triplet_source_id': '77fa7ee5-02b6-4108-be84-de699704cffd', 'file_type': 'application/pdf'}) -> External knowledge ({'creation_date': '2024-09-04', 'last_modified_date': '2024-08-28', 'file_size': 1750518, 'file_path': 'c:\\\\Users\\\\jayit\\\\GCCD\\\\triplet-store-graph-rag\\\\data\\\\Graph_Retrieval-Augmented_Generation_A_Survey.pdf', 'name': 'External knowledge', 'file_name': 'Graph_Retrieval-Augmented_Generation_A_Survey.pdf', 'page_label': '4', 'triplet_source_id': '77fa7ee5-02b6-4108-be84-de699704cffd', 'file_type': 'application/pdf'})\n",
      "Rag ({'creation_date': '2024-09-04', 'last_modified_date': '2024-08-28', 'file_size': 1750518, 'file_path': 'c:\\\\Users\\\\jayit\\\\GCCD\\\\triplet-store-graph-rag\\\\data\\\\Graph_Retrieval-Augmented_Generation_A_Survey.pdf', 'name': 'Rag', 'file_name': 'Graph_Retrieval-Augmented_Generation_A_Survey.pdf', 'page_label': '4', 'triplet_source_id': '77fa7ee5-02b6-4108-be84-de699704cffd', 'file_type': 'application/pdf'}) -> Lacks ({'creation_date': '2024-09-04', 'last_modified_date': '2024-08-28', 'file_size': 1750518, 'file_path': 'c:\\\\Users\\\\jayit\\\\GCCD\\\\triplet-store-graph-rag\\\\data\\\\Graph_Retrieval-Augmented_Generation_A_Survey.pdf', 'file_name': 'Graph_Retrieval-Augmented_Generation_A_Survey.pdf', 'page_label': '2', 'triplet_source_id': '1002bfc5-4b03-4cc6-a2dc-24890b329822', 'file_type': 'application/pdf'}) -> Global information ({'creation_date': '2024-09-04', 'last_modified_date': '2024-08-28', 'file_size': 1750518, 'file_path': 'c:\\\\Users\\\\jayit\\\\GCCD\\\\triplet-store-graph-rag\\\\data\\\\Graph_Retrieval-Augmented_Generation_A_Survey.pdf', 'name': 'Global information', 'file_name': 'Graph_Retrieval-Augmented_Generation_A_Survey.pdf', 'page_label': '2', 'triplet_source_id': '1002bfc5-4b03-4cc6-a2dc-24890b329822', 'file_type': 'application/pdf'})\n",
      "Rag ({'creation_date': '2024-09-04', 'last_modified_date': '2024-08-28', 'file_size': 1750518, 'file_path': 'c:\\\\Users\\\\jayit\\\\GCCD\\\\triplet-store-graph-rag\\\\data\\\\Graph_Retrieval-Augmented_Generation_A_Survey.pdf', 'name': 'Rag', 'file_name': 'Graph_Retrieval-Augmented_Generation_A_Survey.pdf', 'page_label': '4', 'triplet_source_id': '77fa7ee5-02b6-4108-be84-de699704cffd', 'file_type': 'application/pdf'}) -> Recounts ({'creation_date': '2024-09-04', 'last_modified_date': '2024-08-28', 'file_size': 1750518, 'file_path': 'c:\\\\Users\\\\jayit\\\\GCCD\\\\triplet-store-graph-rag\\\\data\\\\Graph_Retrieval-Augmented_Generation_A_Survey.pdf', 'file_name': 'Graph_Retrieval-Augmented_Generation_A_Survey.pdf', 'page_label': '2', 'triplet_source_id': '1002bfc5-4b03-4cc6-a2dc-24890b329822', 'file_type': 'application/pdf'}) -> Content in textual snippets ({'creation_date': '2024-09-04', 'last_modified_date': '2024-08-28', 'file_size': 1750518, 'file_path': 'c:\\\\Users\\\\jayit\\\\GCCD\\\\triplet-store-graph-rag\\\\data\\\\Graph_Retrieval-Augmented_Generation_A_Survey.pdf', 'name': 'Content in textual snippets', 'file_name': 'Graph_Retrieval-Augmented_Generation_A_Survey.pdf', 'page_label': '2', 'triplet_source_id': '1002bfc5-4b03-4cc6-a2dc-24890b329822', 'file_type': 'application/pdf'})\n",
      "Rag ({'creation_date': '2024-09-04', 'last_modified_date': '2024-08-28', 'file_size': 1750518, 'file_path': 'c:\\\\Users\\\\jayit\\\\GCCD\\\\triplet-store-graph-rag\\\\data\\\\Graph_Retrieval-Augmented_Generation_A_Survey.pdf', 'name': 'Rag', 'file_name': 'Graph_Retrieval-Augmented_Generation_A_Survey.pdf', 'page_label': '4', 'triplet_source_id': '77fa7ee5-02b6-4108-be84-de699704cffd', 'file_type': 'application/pdf'}) -> Faces ({'creation_date': '2024-09-04', 'last_modified_date': '2024-08-28', 'file_size': 1750518, 'file_path': 'c:\\\\Users\\\\jayit\\\\GCCD\\\\triplet-store-graph-rag\\\\data\\\\Graph_Retrieval-Augmented_Generation_A_Survey.pdf', 'file_name': 'Graph_Retrieval-Augmented_Generation_A_Survey.pdf', 'page_label': '2', 'triplet_source_id': '1002bfc5-4b03-4cc6-a2dc-24890b329822', 'file_type': 'application/pdf'}) -> Limitations in real-world scenarios ({'creation_date': '2024-09-04', 'last_modified_date': '2024-08-28', 'file_size': 1750518, 'file_path': 'c:\\\\Users\\\\jayit\\\\GCCD\\\\triplet-store-graph-rag\\\\data\\\\Graph_Retrieval-Augmented_Generation_A_Survey.pdf', 'name': 'Limitations in real-world scenarios', 'file_name': 'Graph_Retrieval-Augmented_Generation_A_Survey.pdf', 'page_label': '2', 'triplet_source_id': '1002bfc5-4b03-4cc6-a2dc-24890b329822', 'file_type': 'application/pdf'})\n",
      "Rag ({'creation_date': '2024-09-04', 'last_modified_date': '2024-08-28', 'file_size': 1750518, 'file_path': 'c:\\\\Users\\\\jayit\\\\GCCD\\\\triplet-store-graph-rag\\\\data\\\\Graph_Retrieval-Augmented_Generation_A_Survey.pdf', 'name': 'Rag', 'file_name': 'Graph_Retrieval-Augmented_Generation_A_Survey.pdf', 'page_label': '4', 'triplet_source_id': '77fa7ee5-02b6-4108-be84-de699704cffd', 'file_type': 'application/pdf'}) -> Has gained ({'creation_date': '2024-09-04', 'last_modified_date': '2024-08-28', 'file_size': 1750518, 'file_path': 'c:\\\\Users\\\\jayit\\\\GCCD\\\\triplet-store-graph-rag\\\\data\\\\Graph_Retrieval-Augmented_Generation_A_Survey.pdf', 'file_name': 'Graph_Retrieval-Augmented_Generation_A_Survey.pdf', 'page_label': '2', 'triplet_source_id': '1002bfc5-4b03-4cc6-a2dc-24890b329822', 'file_type': 'application/pdf'}) -> Widespread attention ({'creation_date': '2024-09-04', 'last_modified_date': '2024-08-28', 'file_size': 1750518, 'file_path': 'c:\\\\Users\\\\jayit\\\\GCCD\\\\triplet-store-graph-rag\\\\data\\\\Graph_Retrieval-Augmented_Generation_A_Survey.pdf', 'name': 'Widespread attention', 'file_name': 'Graph_Retrieval-Augmented_Generation_A_Survey.pdf', 'page_label': '2', 'triplet_source_id': '1002bfc5-4b03-4cc6-a2dc-24890b329822', 'file_type': 'application/pdf'})\n",
      "Rag ({'creation_date': '2024-09-04', 'last_modified_date': '2024-08-28', 'file_size': 1750518, 'file_path': 'c:\\\\Users\\\\jayit\\\\GCCD\\\\triplet-store-graph-rag\\\\data\\\\Graph_Retrieval-Augmented_Generation_A_Survey.pdf', 'name': 'Rag', 'file_name': 'Graph_Retrieval-Augmented_Generation_A_Survey.pdf', 'page_label': '4', 'triplet_source_id': '77fa7ee5-02b6-4108-be84-de699704cffd', 'file_type': 'application/pdf'}) -> Ensures ({'creation_date': '2024-09-04', 'last_modified_date': '2024-08-28', 'file_size': 1750518, 'file_path': 'c:\\\\Users\\\\jayit\\\\GCCD\\\\triplet-store-graph-rag\\\\data\\\\Graph_Retrieval-Augmented_Generation_A_Survey.pdf', 'file_name': 'Graph_Retrieval-Augmented_Generation_A_Survey.pdf', 'page_label': '2', 'triplet_source_id': '1002bfc5-4b03-4cc6-a2dc-24890b329822', 'file_type': 'application/pdf'}) -> Higher degree of factual accuracy ({'creation_date': '2024-09-04', 'last_modified_date': '2024-08-28', 'file_size': 1750518, 'file_path': 'c:\\\\Users\\\\jayit\\\\GCCD\\\\triplet-store-graph-rag\\\\data\\\\Graph_Retrieval-Augmented_Generation_A_Survey.pdf', 'name': 'Higher degree of factual accuracy', 'file_name': 'Graph_Retrieval-Augmented_Generation_A_Survey.pdf', 'page_label': '2', 'triplet_source_id': '1002bfc5-4b03-4cc6-a2dc-24890b329822', 'file_type': 'application/pdf'})\n",
      "Rag ({'creation_date': '2024-09-04', 'last_modified_date': '2024-08-28', 'file_size': 1750518, 'file_path': 'c:\\\\Users\\\\jayit\\\\GCCD\\\\triplet-store-graph-rag\\\\data\\\\Graph_Retrieval-Augmented_Generation_A_Survey.pdf', 'name': 'Rag', 'file_name': 'Graph_Retrieval-Augmented_Generation_A_Survey.pdf', 'page_label': '4', 'triplet_source_id': '77fa7ee5-02b6-4108-be84-de699704cffd', 'file_type': 'application/pdf'}) -> Enriches ({'creation_date': '2024-09-04', 'last_modified_date': '2024-08-28', 'file_size': 1750518, 'file_path': 'c:\\\\Users\\\\jayit\\\\GCCD\\\\triplet-store-graph-rag\\\\data\\\\Graph_Retrieval-Augmented_Generation_A_Survey.pdf', 'file_name': 'Graph_Retrieval-Augmented_Generation_A_Survey.pdf', 'page_label': '2', 'triplet_source_id': '1002bfc5-4b03-4cc6-a2dc-24890b329822', 'file_type': 'application/pdf'}) -> Contextual depth of responses ({'creation_date': '2024-09-04', 'last_modified_date': '2024-08-28', 'file_size': 1750518, 'file_path': 'c:\\\\Users\\\\jayit\\\\GCCD\\\\triplet-store-graph-rag\\\\data\\\\Graph_Retrieval-Augmented_Generation_A_Survey.pdf', 'name': 'Contextual depth of responses', 'file_name': 'Graph_Retrieval-Augmented_Generation_A_Survey.pdf', 'page_label': '2', 'triplet_source_id': '1002bfc5-4b03-4cc6-a2dc-24890b329822', 'file_type': 'application/pdf'})\n",
      "Rag ({'creation_date': '2024-09-04', 'last_modified_date': '2024-08-28', 'file_size': 1750518, 'file_path': 'c:\\\\Users\\\\jayit\\\\GCCD\\\\triplet-store-graph-rag\\\\data\\\\Graph_Retrieval-Augmented_Generation_A_Survey.pdf', 'name': 'Rag', 'file_name': 'Graph_Retrieval-Augmented_Generation_A_Survey.pdf', 'page_label': '4', 'triplet_source_id': '77fa7ee5-02b6-4108-be84-de699704cffd', 'file_type': 'application/pdf'}) -> Incorporates ({'creation_date': '2024-09-04', 'last_modified_date': '2024-08-28', 'file_size': 1750518, 'file_path': 'c:\\\\Users\\\\jayit\\\\GCCD\\\\triplet-store-graph-rag\\\\data\\\\Graph_Retrieval-Augmented_Generation_A_Survey.pdf', 'file_name': 'Graph_Retrieval-Augmented_Generation_A_Survey.pdf', 'page_label': '2', 'triplet_source_id': '1002bfc5-4b03-4cc6-a2dc-24890b329822', 'file_type': 'application/pdf'}) -> Relevant factual knowledge ({'creation_date': '2024-09-04', 'last_modified_date': '2024-08-28', 'file_size': 1750518, 'file_path': 'c:\\\\Users\\\\jayit\\\\GCCD\\\\triplet-store-graph-rag\\\\data\\\\Graph_Retrieval-Augmented_Generation_A_Survey.pdf', 'name': 'Relevant factual knowledge', 'file_name': 'Graph_Retrieval-Augmented_Generation_A_Survey.pdf', 'page_label': '2', 'triplet_source_id': '1002bfc5-4b03-4cc6-a2dc-24890b329822', 'file_type': 'application/pdf'})\n",
      "Rag ({'creation_date': '2024-09-04', 'last_modified_date': '2024-08-28', 'file_size': 1750518, 'file_path': 'c:\\\\Users\\\\jayit\\\\GCCD\\\\triplet-store-graph-rag\\\\data\\\\Graph_Retrieval-Augmented_Generation_A_Survey.pdf', 'name': 'Rag', 'file_name': 'Graph_Retrieval-Augmented_Generation_A_Survey.pdf', 'page_label': '4', 'triplet_source_id': '77fa7ee5-02b6-4108-be84-de699704cffd', 'file_type': 'application/pdf'}) -> Lies in ({'creation_date': '2024-09-04', 'last_modified_date': '2024-08-28', 'file_size': 1750518, 'file_path': 'c:\\\\Users\\\\jayit\\\\GCCD\\\\triplet-store-graph-rag\\\\data\\\\Graph_Retrieval-Augmented_Generation_A_Survey.pdf', 'file_name': 'Graph_Retrieval-Augmented_Generation_A_Survey.pdf', 'page_label': '2', 'triplet_source_id': '1002bfc5-4b03-4cc6-a2dc-24890b329822', 'file_type': 'application/pdf'}) -> Ability to query text corpus ({'creation_date': '2024-09-04', 'last_modified_date': '2024-08-28', 'file_size': 1750518, 'file_path': 'c:\\\\Users\\\\jayit\\\\GCCD\\\\triplet-store-graph-rag\\\\data\\\\Graph_Retrieval-Augmented_Generation_A_Survey.pdf', 'name': 'Ability to query text corpus', 'file_name': 'Graph_Retrieval-Augmented_Generation_A_Survey.pdf', 'page_label': '2', 'triplet_source_id': '1002bfc5-4b03-4cc6-a2dc-24890b329822', 'file_type': 'application/pdf'})\n",
      "Rag ({'creation_date': '2024-09-04', 'last_modified_date': '2024-08-28', 'file_size': 1750518, 'file_path': 'c:\\\\Users\\\\jayit\\\\GCCD\\\\triplet-store-graph-rag\\\\data\\\\Graph_Retrieval-Augmented_Generation_A_Survey.pdf', 'name': 'Rag', 'file_name': 'Graph_Retrieval-Augmented_Generation_A_Survey.pdf', 'page_label': '4', 'triplet_source_id': '77fa7ee5-02b6-4108-be84-de699704cffd', 'file_type': 'application/pdf'}) -> Integrates ({'creation_date': '2024-09-04', 'last_modified_date': '2024-08-28', 'file_size': 1750518, 'file_path': 'c:\\\\Users\\\\jayit\\\\GCCD\\\\triplet-store-graph-rag\\\\data\\\\Graph_Retrieval-Augmented_Generation_A_Survey.pdf', 'file_name': 'Graph_Retrieval-Augmented_Generation_A_Survey.pdf', 'page_label': '4', 'triplet_source_id': '77fa7ee5-02b6-4108-be84-de699704cffd', 'file_type': 'application/pdf'}) -> Domain-specific information ({'creation_date': '2024-09-04', 'last_modified_date': '2024-08-28', 'file_size': 1750518, 'file_path': 'c:\\\\Users\\\\jayit\\\\GCCD\\\\triplet-store-graph-rag\\\\data\\\\Graph_Retrieval-Augmented_Generation_A_Survey.pdf', 'name': 'Domain-specific information', 'file_name': 'Graph_Retrieval-Augmented_Generation_A_Survey.pdf', 'page_label': '4', 'triplet_source_id': '77fa7ee5-02b6-4108-be84-de699704cffd', 'file_type': 'application/pdf'})\n",
      "Rag ({'creation_date': '2024-09-04', 'last_modified_date': '2024-08-28', 'file_size': 1750518, 'file_path': 'c:\\\\Users\\\\jayit\\\\GCCD\\\\triplet-store-graph-rag\\\\data\\\\Graph_Retrieval-Augmented_Generation_A_Survey.pdf', 'name': 'Rag', 'file_name': 'Graph_Retrieval-Augmented_Generation_A_Survey.pdf', 'page_label': '4', 'triplet_source_id': '77fa7ee5-02b6-4108-be84-de699704cffd', 'file_type': 'application/pdf'}) -> Integrates ({'creation_date': '2024-09-04', 'last_modified_date': '2024-08-28', 'file_size': 1750518, 'file_path': 'c:\\\\Users\\\\jayit\\\\GCCD\\\\triplet-store-graph-rag\\\\data\\\\Graph_Retrieval-Augmented_Generation_A_Survey.pdf', 'file_name': 'Graph_Retrieval-Augmented_Generation_A_Survey.pdf', 'page_label': '2', 'triplet_source_id': '952f0a60-6066-42dd-b765-9cc29fd176cf', 'file_type': 'application/pdf'}) -> Retrieval component ({'creation_date': '2024-09-04', 'last_modified_date': '2024-08-28', 'file_size': 1750518, 'file_path': 'c:\\\\Users\\\\jayit\\\\GCCD\\\\triplet-store-graph-rag\\\\data\\\\Graph_Retrieval-Augmented_Generation_A_Survey.pdf', 'name': 'Retrieval component', 'file_name': 'Graph_Retrieval-Augmented_Generation_A_Survey.pdf', 'page_label': '2', 'triplet_source_id': '952f0a60-6066-42dd-b765-9cc29fd176cf', 'file_type': 'application/pdf'})\n",
      "Rag ({'creation_date': '2024-09-04', 'last_modified_date': '2024-08-28', 'file_size': 1750518, 'file_path': 'c:\\\\Users\\\\jayit\\\\GCCD\\\\triplet-store-graph-rag\\\\data\\\\Graph_Retrieval-Augmented_Generation_A_Survey.pdf', 'name': 'Rag', 'file_name': 'Graph_Retrieval-Augmented_Generation_A_Survey.pdf', 'page_label': '4', 'triplet_source_id': '77fa7ee5-02b6-4108-be84-de699704cffd', 'file_type': 'application/pdf'}) -> Aims to enhance ({'creation_date': '2024-09-04', 'last_modified_date': '2024-08-28', 'file_size': 1750518, 'file_path': 'c:\\\\Users\\\\jayit\\\\GCCD\\\\triplet-store-graph-rag\\\\data\\\\Graph_Retrieval-Augmented_Generation_A_Survey.pdf', 'file_name': 'Graph_Retrieval-Augmented_Generation_A_Survey.pdf', 'page_label': '2', 'triplet_source_id': '952f0a60-6066-42dd-b765-9cc29fd176cf', 'file_type': 'application/pdf'}) -> Quality of generated content ({'creation_date': '2024-09-04', 'last_modified_date': '2024-08-28', 'file_size': 1750518, 'file_path': 'c:\\\\Users\\\\jayit\\\\GCCD\\\\triplet-store-graph-rag\\\\data\\\\Graph_Retrieval-Augmented_Generation_A_Survey.pdf', 'name': 'Quality of generated content', 'file_name': 'Graph_Retrieval-Augmented_Generation_A_Survey.pdf', 'page_label': '2', 'triplet_source_id': '952f0a60-6066-42dd-b765-9cc29fd176cf', 'file_type': 'application/pdf'})\n",
      "Rag ({'creation_date': '2024-09-04', 'last_modified_date': '2024-08-28', 'file_size': 1750518, 'file_path': 'c:\\\\Users\\\\jayit\\\\GCCD\\\\triplet-store-graph-rag\\\\data\\\\Graph_Retrieval-Augmented_Generation_A_Survey.pdf', 'name': 'Rag', 'file_name': 'Graph_Retrieval-Augmented_Generation_A_Survey.pdf', 'page_label': '4', 'triplet_source_id': '77fa7ee5-02b6-4108-be84-de699704cffd', 'file_type': 'application/pdf'}) -> Mitigates issues such as ({'creation_date': '2024-09-04', 'last_modified_date': '2024-08-28', 'file_size': 1750518, 'file_path': 'c:\\\\Users\\\\jayit\\\\GCCD\\\\triplet-store-graph-rag\\\\data\\\\Graph_Retrieval-Augmented_Generation_A_Survey.pdf', 'file_name': 'Graph_Retrieval-Augmented_Generation_A_Survey.pdf', 'page_label': '1', 'triplet_source_id': 'b5299952-c574-46cf-b40e-6e7e9a4070fb', 'file_type': 'application/pdf'}) -> Hallucination ({'creation_date': '2024-09-04', 'last_modified_date': '2024-08-28', 'file_size': 1750518, 'file_path': 'c:\\\\Users\\\\jayit\\\\GCCD\\\\triplet-store-graph-rag\\\\data\\\\Graph_Retrieval-Augmented_Generation_A_Survey.pdf', 'name': 'Hallucination', 'file_name': 'Graph_Retrieval-Augmented_Generation_A_Survey.pdf', 'page_label': '1', 'triplet_source_id': 'b5299952-c574-46cf-b40e-6e7e9a4070fb', 'file_type': 'application/pdf'})\n",
      "Rag ({'creation_date': '2024-09-04', 'last_modified_date': '2024-08-28', 'file_size': 1750518, 'file_path': 'c:\\\\Users\\\\jayit\\\\GCCD\\\\triplet-store-graph-rag\\\\data\\\\Graph_Retrieval-Augmented_Generation_A_Survey.pdf', 'name': 'Rag', 'file_name': 'Graph_Retrieval-Augmented_Generation_A_Survey.pdf', 'page_label': '4', 'triplet_source_id': '77fa7ee5-02b6-4108-be84-de699704cffd', 'file_type': 'application/pdf'}) -> Refines ({'creation_date': '2024-09-04', 'last_modified_date': '2024-08-28', 'file_size': 1750518, 'file_path': 'c:\\\\Users\\\\jayit\\\\GCCD\\\\triplet-store-graph-rag\\\\data\\\\Graph_Retrieval-Augmented_Generation_A_Survey.pdf', 'file_name': 'Graph_Retrieval-Augmented_Generation_A_Survey.pdf', 'page_label': '1', 'triplet_source_id': 'b5299952-c574-46cf-b40e-6e7e9a4070fb', 'file_type': 'application/pdf'}) -> Llm outputs ({'creation_date': '2024-09-04', 'last_modified_date': '2024-08-28', 'file_size': 1750518, 'file_path': 'c:\\\\Users\\\\jayit\\\\GCCD\\\\triplet-store-graph-rag\\\\data\\\\Graph_Retrieval-Augmented_Generation_A_Survey.pdf', 'name': 'Llm outputs', 'file_name': 'Graph_Retrieval-Augmented_Generation_A_Survey.pdf', 'page_label': '1', 'triplet_source_id': 'b5299952-c574-46cf-b40e-6e7e9a4070fb', 'file_type': 'application/pdf'})\n",
      "Rag ({'creation_date': '2024-09-04', 'last_modified_date': '2024-08-28', 'file_size': 1750518, 'file_path': 'c:\\\\Users\\\\jayit\\\\GCCD\\\\triplet-store-graph-rag\\\\data\\\\Graph_Retrieval-Augmented_Generation_A_Survey.pdf', 'name': 'Rag', 'file_name': 'Graph_Retrieval-Augmented_Generation_A_Survey.pdf', 'page_label': '4', 'triplet_source_id': '77fa7ee5-02b6-4108-be84-de699704cffd', 'file_type': 'application/pdf'}) -> References ({'creation_date': '2024-09-04', 'last_modified_date': '2024-08-28', 'file_size': 1750518, 'file_path': 'c:\\\\Users\\\\jayit\\\\GCCD\\\\triplet-store-graph-rag\\\\data\\\\Graph_Retrieval-Augmented_Generation_A_Survey.pdf', 'file_name': 'Graph_Retrieval-Augmented_Generation_A_Survey.pdf', 'page_label': '1', 'triplet_source_id': 'b5299952-c574-46cf-b40e-6e7e9a4070fb', 'file_type': 'application/pdf'}) -> External knowledge base ({'creation_date': '2024-09-04', 'last_modified_date': '2024-08-28', 'file_size': 1750518, 'file_path': 'c:\\\\Users\\\\jayit\\\\GCCD\\\\triplet-store-graph-rag\\\\data\\\\Graph_Retrieval-Augmented_Generation_A_Survey.pdf', 'name': 'External knowledge base', 'file_name': 'Graph_Retrieval-Augmented_Generation_A_Survey.pdf', 'page_label': '1', 'triplet_source_id': 'b5299952-c574-46cf-b40e-6e7e9a4070fb', 'file_type': 'application/pdf'})\n",
      "Grag ({'creation_date': '2024-09-04', 'last_modified_date': '2024-08-28', 'file_size': 1750518, 'file_path': 'c:\\\\Users\\\\jayit\\\\GCCD\\\\triplet-store-graph-rag\\\\data\\\\Graph_Retrieval-Augmented_Generation_A_Survey.pdf', 'name': 'Grag', 'file_name': 'Graph_Retrieval-Augmented_Generation_A_Survey.pdf', 'page_label': '32', 'triplet_source_id': '1020a7c3-8d3e-4cf3-ac21-afa86da5023c', 'file_type': 'application/pdf'}) -> Is ({'creation_date': '2024-09-04', 'last_modified_date': '2024-08-28', 'file_size': 1750518, 'file_path': 'c:\\\\Users\\\\jayit\\\\GCCD\\\\triplet-store-graph-rag\\\\data\\\\Graph_Retrieval-Augmented_Generation_A_Survey.pdf', 'file_name': 'Graph_Retrieval-Augmented_Generation_A_Survey.pdf', 'page_label': '32', 'triplet_source_id': '1020a7c3-8d3e-4cf3-ac21-afa86da5023c', 'file_type': 'application/pdf'}) -> Graph retrieval-augmented generation ({'creation_date': '2024-09-04', 'last_modified_date': '2024-08-28', 'file_size': 1750518, 'file_path': 'c:\\\\Users\\\\jayit\\\\GCCD\\\\triplet-store-graph-rag\\\\data\\\\Graph_Retrieval-Augmented_Generation_A_Survey.pdf', 'name': 'Graph retrieval-augmented generation', 'file_name': 'Graph_Retrieval-Augmented_Generation_A_Survey.pdf', 'page_label': '32', 'triplet_source_id': '1020a7c3-8d3e-4cf3-ac21-afa86da5023c', 'file_type': 'application/pdf'})\n",
      "Graph retrieval-augmented generation ({'creation_date': '2024-09-04', 'last_modified_date': '2024-08-28', 'file_size': 1750518, 'file_path': 'c:\\\\Users\\\\jayit\\\\GCCD\\\\triplet-store-graph-rag\\\\data\\\\Graph_Retrieval-Augmented_Generation_A_Survey.pdf', 'name': 'Graph retrieval-augmented generation', 'file_name': 'Graph_Retrieval-Augmented_Generation_A_Survey.pdf', 'page_label': '32', 'triplet_source_id': '1020a7c3-8d3e-4cf3-ac21-afa86da5023c', 'file_type': 'application/pdf'}) -> Is ({'creation_date': '2024-09-04', 'last_modified_date': '2024-08-28', 'file_size': 1750518, 'file_path': 'c:\\\\Users\\\\jayit\\\\GCCD\\\\triplet-store-graph-rag\\\\data\\\\Graph_Retrieval-Augmented_Generation_A_Survey.pdf', 'file_name': 'Graph_Retrieval-Augmented_Generation_A_Survey.pdf', 'page_label': '7', 'triplet_source_id': '9cb1f2bc-c266-42fc-bc12-9b9c6d186c7f', 'file_type': 'application/pdf'}) -> Survey ({'creation_date': '2024-09-04', 'last_modified_date': '2024-08-28', 'file_size': 1750518, 'file_path': 'c:\\\\Users\\\\jayit\\\\GCCD\\\\triplet-store-graph-rag\\\\data\\\\Graph_Retrieval-Augmented_Generation_A_Survey.pdf', 'name': 'Survey', 'file_name': 'Graph_Retrieval-Augmented_Generation_A_Survey.pdf', 'page_label': '35', 'triplet_source_id': 'a6fe9888-a799-4168-a595-cae2578ff9dd', 'file_type': 'application/pdf'})\n",
      "Graph retrieval-augmented generation ({'creation_date': '2024-09-04', 'last_modified_date': '2024-08-28', 'file_size': 1750518, 'file_path': 'c:\\\\Users\\\\jayit\\\\GCCD\\\\triplet-store-graph-rag\\\\data\\\\Graph_Retrieval-Augmented_Generation_A_Survey.pdf', 'name': 'Graph retrieval-augmented generation', 'file_name': 'Graph_Retrieval-Augmented_Generation_A_Survey.pdf', 'page_label': '32', 'triplet_source_id': '1020a7c3-8d3e-4cf3-ac21-afa86da5023c', 'file_type': 'application/pdf'}) -> Is ({'creation_date': '2024-09-04', 'last_modified_date': '2024-08-28', 'file_size': 1750518, 'file_path': 'c:\\\\Users\\\\jayit\\\\GCCD\\\\triplet-store-graph-rag\\\\data\\\\Graph_Retrieval-Augmented_Generation_A_Survey.pdf', 'file_name': 'Graph_Retrieval-Augmented_Generation_A_Survey.pdf', 'page_label': '3', 'triplet_source_id': 'b578a952-8332-4e48-90fa-d44accfc1009', 'file_type': 'application/pdf'}) -> Innovative solution ({'creation_date': '2024-09-04', 'last_modified_date': '2024-08-28', 'file_size': 1750518, 'file_path': 'c:\\\\Users\\\\jayit\\\\GCCD\\\\triplet-store-graph-rag\\\\data\\\\Graph_Retrieval-Augmented_Generation_A_Survey.pdf', 'name': 'Innovative solution', 'file_name': 'Graph_Retrieval-Augmented_Generation_A_Survey.pdf', 'page_label': '3', 'triplet_source_id': 'b578a952-8332-4e48-90fa-d44accfc1009', 'file_type': 'application/pdf'})\n",
      "Knowledge graphs ({'creation_date': '2024-09-04', 'last_modified_date': '2024-08-28', 'file_size': 1750518, 'file_path': 'c:\\\\Users\\\\jayit\\\\GCCD\\\\triplet-store-graph-rag\\\\data\\\\Graph_Retrieval-Augmented_Generation_A_Survey.pdf', 'name': 'Knowledge graphs', 'file_name': 'Graph_Retrieval-Augmented_Generation_A_Survey.pdf', 'page_label': '29', 'triplet_source_id': '2a78ec44-12ea-46d7-b41a-790a17f15922', 'file_type': 'application/pdf'}) -> Lack ({'creation_date': '2024-09-04', 'last_modified_date': '2024-08-28', 'file_size': 1750518, 'file_path': 'c:\\\\Users\\\\jayit\\\\GCCD\\\\triplet-store-graph-rag\\\\data\\\\Graph_Retrieval-Augmented_Generation_A_Survey.pdf', 'file_name': 'Graph_Retrieval-Augmented_Generation_A_Survey.pdf', 'page_label': '28', 'triplet_source_id': 'b851868d-92fa-4293-91a4-072d9c7aa84b', 'file_type': 'application/pdf'}) -> Inclusion of multi-modal data ({'creation_date': '2024-09-04', 'last_modified_date': '2024-08-28', 'file_size': 1750518, 'file_path': 'c:\\\\Users\\\\jayit\\\\GCCD\\\\triplet-store-graph-rag\\\\data\\\\Graph_Retrieval-Augmented_Generation_A_Survey.pdf', 'name': 'Inclusion of multi-modal data', 'file_name': 'Graph_Retrieval-Augmented_Generation_A_Survey.pdf', 'page_label': '28', 'triplet_source_id': 'b851868d-92fa-4293-91a4-072d9c7aa84b', 'file_type': 'application/pdf'})\n",
      "Knowledge graphs ({'creation_date': '2024-09-04', 'last_modified_date': '2024-08-28', 'file_size': 1750518, 'file_path': 'c:\\\\Users\\\\jayit\\\\GCCD\\\\triplet-store-graph-rag\\\\data\\\\Graph_Retrieval-Augmented_Generation_A_Survey.pdf', 'name': 'Knowledge graphs', 'file_name': 'Graph_Retrieval-Augmented_Generation_A_Survey.pdf', 'page_label': '29', 'triplet_source_id': '2a78ec44-12ea-46d7-b41a-790a17f15922', 'file_type': 'application/pdf'}) -> Encompass ({'creation_date': '2024-09-04', 'last_modified_date': '2024-08-28', 'file_size': 1750518, 'file_path': 'c:\\\\Users\\\\jayit\\\\GCCD\\\\triplet-store-graph-rag\\\\data\\\\Graph_Retrieval-Augmented_Generation_A_Survey.pdf', 'file_name': 'Graph_Retrieval-Augmented_Generation_A_Survey.pdf', 'page_label': '29', 'triplet_source_id': '2a78ec44-12ea-46d7-b41a-790a17f15922', 'file_type': 'application/pdf'}) -> Millions of entities ({'creation_date': '2024-09-04', 'last_modified_date': '2024-08-28', 'file_size': 1750518, 'file_path': 'c:\\\\Users\\\\jayit\\\\GCCD\\\\triplet-store-graph-rag\\\\data\\\\Graph_Retrieval-Augmented_Generation_A_Survey.pdf', 'name': 'Millions of entities', 'file_name': 'Graph_Retrieval-Augmented_Generation_A_Survey.pdf', 'page_label': '29', 'triplet_source_id': '2a78ec44-12ea-46d7-b41a-790a17f15922', 'file_type': 'application/pdf'})\n",
      "Knowledge graphs ({'creation_date': '2024-09-04', 'last_modified_date': '2024-08-28', 'file_size': 1750518, 'file_path': 'c:\\\\Users\\\\jayit\\\\GCCD\\\\triplet-store-graph-rag\\\\data\\\\Graph_Retrieval-Augmented_Generation_A_Survey.pdf', 'name': 'Knowledge graphs', 'file_name': 'Graph_Retrieval-Augmented_Generation_A_Survey.pdf', 'page_label': '29', 'triplet_source_id': '2a78ec44-12ea-46d7-b41a-790a17f15922', 'file_type': 'application/pdf'}) -> Typical kind of ({'creation_date': '2024-09-04', 'last_modified_date': '2024-08-28', 'file_size': 1750518, 'file_path': 'c:\\\\Users\\\\jayit\\\\GCCD\\\\triplet-store-graph-rag\\\\data\\\\Graph_Retrieval-Augmented_Generation_A_Survey.pdf', 'file_name': 'Graph_Retrieval-Augmented_Generation_A_Survey.pdf', 'page_label': '5', 'triplet_source_id': '9174cebf-7624-4f98-ac53-c84929ab640a', 'file_type': 'application/pdf'}) -> Text-attributed graphs ({'creation_date': '2024-09-04', 'last_modified_date': '2024-08-28', 'file_size': 1750518, 'file_path': 'c:\\\\Users\\\\jayit\\\\GCCD\\\\triplet-store-graph-rag\\\\data\\\\Graph_Retrieval-Augmented_Generation_A_Survey.pdf', 'name': 'Text-attributed graphs', 'file_name': 'Graph_Retrieval-Augmented_Generation_A_Survey.pdf', 'page_label': '5', 'triplet_source_id': '9174cebf-7624-4f98-ac53-c84929ab640a', 'file_type': 'application/pdf'})\n",
      "Graphrag ({'creation_date': '2024-09-04', 'last_modified_date': '2024-08-28', 'file_size': 1750518, 'file_path': 'c:\\\\Users\\\\jayit\\\\GCCD\\\\triplet-store-graph-rag\\\\data\\\\Graph_Retrieval-Augmented_Generation_A_Survey.pdf', 'name': 'Graphrag', 'file_name': 'Graph_Retrieval-Augmented_Generation_A_Survey.pdf', 'page_label': '30', 'triplet_source_id': 'd8bf6309-e2a6-4ee2-bf4e-651f334d564a', 'file_type': 'application/pdf'}) -> Enhances ({'creation_date': '2024-09-04', 'last_modified_date': '2024-08-28', 'file_size': 1750518, 'file_path': 'c:\\\\Users\\\\jayit\\\\GCCD\\\\triplet-store-graph-rag\\\\data\\\\Graph_Retrieval-Augmented_Generation_A_Survey.pdf', 'file_name': 'Graph_Retrieval-Augmented_Generation_A_Survey.pdf', 'page_label': '30', 'triplet_source_id': 'd8bf6309-e2a6-4ee2-bf4e-651f334d564a', 'file_type': 'application/pdf'}) -> Information retrieval ({'creation_date': '2024-09-04', 'last_modified_date': '2024-08-28', 'file_size': 1750518, 'file_path': 'c:\\\\Users\\\\jayit\\\\GCCD\\\\triplet-store-graph-rag\\\\data\\\\Graph_Retrieval-Augmented_Generation_A_Survey.pdf', 'name': 'Information retrieval', 'file_name': 'Graph_Retrieval-Augmented_Generation_A_Survey.pdf', 'page_label': '30', 'triplet_source_id': 'd8bf6309-e2a6-4ee2-bf4e-651f334d564a', 'file_type': 'application/pdf'})\n",
      "Retrieval-augmented generation for ai-generated content: a survey ({'creation_date': '2024-09-04', 'last_modified_date': '2024-08-28', 'file_size': 1750518, 'file_path': 'c:\\\\Users\\\\jayit\\\\GCCD\\\\triplet-store-graph-rag\\\\data\\\\Graph_Retrieval-Augmented_Generation_A_Survey.pdf', 'name': 'Retrieval-augmented generation for ai-generated content: a survey', 'file_name': 'Graph_Retrieval-Augmented_Generation_A_Survey.pdf', 'page_label': '40', 'triplet_source_id': 'd8d43ccf-610c-4d11-ae9a-ec5d571de370', 'file_type': 'application/pdf'}) -> Arxiv ({'creation_date': '2024-09-04', 'last_modified_date': '2024-08-28', 'file_size': 1750518, 'file_path': 'c:\\\\Users\\\\jayit\\\\GCCD\\\\triplet-store-graph-rag\\\\data\\\\Graph_Retrieval-Augmented_Generation_A_Survey.pdf', 'file_name': 'Graph_Retrieval-Augmented_Generation_A_Survey.pdf', 'page_label': '40', 'triplet_source_id': 'd8d43ccf-610c-4d11-ae9a-ec5d571de370', 'file_type': 'application/pdf'}) -> 2402.19473 ({'creation_date': '2024-09-04', 'last_modified_date': '2024-08-28', 'file_size': 1750518, 'file_path': 'c:\\\\Users\\\\jayit\\\\GCCD\\\\triplet-store-graph-rag\\\\data\\\\Graph_Retrieval-Augmented_Generation_A_Survey.pdf', 'name': '2402.19473', 'file_name': 'Graph_Retrieval-Augmented_Generation_A_Survey.pdf', 'page_label': '40', 'triplet_source_id': 'd8d43ccf-610c-4d11-ae9a-ec5d571de370', 'file_type': 'application/pdf'})\n",
      "Peng et al. ({'creation_date': '2024-09-04', 'last_modified_date': '2024-08-28', 'file_size': 1750518, 'file_path': 'c:\\\\Users\\\\jayit\\\\GCCD\\\\triplet-store-graph-rag\\\\data\\\\Graph_Retrieval-Augmented_Generation_A_Survey.pdf', 'name': 'Peng et al.', 'file_name': 'Graph_Retrieval-Augmented_Generation_A_Survey.pdf', 'page_label': '40', 'triplet_source_id': 'd8d43ccf-610c-4d11-ae9a-ec5d571de370', 'file_type': 'application/pdf'}) -> Authored ({'creation_date': '2024-09-04', 'last_modified_date': '2024-08-28', 'file_size': 1750518, 'file_path': 'c:\\\\Users\\\\jayit\\\\GCCD\\\\triplet-store-graph-rag\\\\data\\\\Graph_Retrieval-Augmented_Generation_A_Survey.pdf', 'file_name': 'Graph_Retrieval-Augmented_Generation_A_Survey.pdf', 'page_label': '40', 'triplet_source_id': 'd8d43ccf-610c-4d11-ae9a-ec5d571de370', 'file_type': 'application/pdf'}) -> Retrieval-augmented generation for ai-generated content: a survey ({'creation_date': '2024-09-04', 'last_modified_date': '2024-08-28', 'file_size': 1750518, 'file_path': 'c:\\\\Users\\\\jayit\\\\GCCD\\\\triplet-store-graph-rag\\\\data\\\\Graph_Retrieval-Augmented_Generation_A_Survey.pdf', 'name': 'Retrieval-augmented generation for ai-generated content: a survey', 'file_name': 'Graph_Retrieval-Augmented_Generation_A_Survey.pdf', 'page_label': '40', 'triplet_source_id': 'd8d43ccf-610c-4d11-ae9a-ec5d571de370', 'file_type': 'application/pdf'})\n",
      "Hao yu ({'creation_date': '2024-09-04', 'last_modified_date': '2024-08-28', 'file_size': 1750518, 'file_path': 'c:\\\\Users\\\\jayit\\\\GCCD\\\\triplet-store-graph-rag\\\\data\\\\Graph_Retrieval-Augmented_Generation_A_Survey.pdf', 'name': 'Hao yu', 'file_name': 'Graph_Retrieval-Augmented_Generation_A_Survey.pdf', 'page_label': '39', 'triplet_source_id': 'fa9c7c19-9506-47c8-bf63-ee0f7763bc7e', 'file_type': 'application/pdf'}) -> Authored ({'creation_date': '2024-09-04', 'last_modified_date': '2024-08-28', 'file_size': 1750518, 'file_path': 'c:\\\\Users\\\\jayit\\\\GCCD\\\\triplet-store-graph-rag\\\\data\\\\Graph_Retrieval-Augmented_Generation_A_Survey.pdf', 'file_name': 'Graph_Retrieval-Augmented_Generation_A_Survey.pdf', 'page_label': '39', 'triplet_source_id': 'fa9c7c19-9506-47c8-bf63-ee0f7763bc7e', 'file_type': 'application/pdf'}) -> Evaluation of retrieval-augmented generation ({'creation_date': '2024-09-04', 'last_modified_date': '2024-08-28', 'file_size': 1750518, 'file_path': 'c:\\\\Users\\\\jayit\\\\GCCD\\\\triplet-store-graph-rag\\\\data\\\\Graph_Retrieval-Augmented_Generation_A_Survey.pdf', 'name': 'Evaluation of retrieval-augmented generation', 'file_name': 'Graph_Retrieval-Augmented_Generation_A_Survey.pdf', 'page_label': '39', 'triplet_source_id': 'fa9c7c19-9506-47c8-bf63-ee0f7763bc7e', 'file_type': 'application/pdf'})\n",
      "Atlantic ({'creation_date': '2024-09-04', 'last_modified_date': '2024-08-28', 'file_size': 1750518, 'file_path': 'c:\\\\Users\\\\jayit\\\\GCCD\\\\triplet-store-graph-rag\\\\data\\\\Graph_Retrieval-Augmented_Generation_A_Survey.pdf', 'name': 'Atlantic', 'file_name': 'Graph_Retrieval-Augmented_Generation_A_Survey.pdf', 'page_label': '36', 'triplet_source_id': '7ea0d842-e0e3-49a5-b94b-7fdd4fbd26b5', 'file_type': 'application/pdf'}) -> Is ({'creation_date': '2024-09-04', 'last_modified_date': '2024-08-28', 'file_size': 1750518, 'file_path': 'c:\\\\Users\\\\jayit\\\\GCCD\\\\triplet-store-graph-rag\\\\data\\\\Graph_Retrieval-Augmented_Generation_A_Survey.pdf', 'file_name': 'Graph_Retrieval-Augmented_Generation_A_Survey.pdf', 'page_label': '36', 'triplet_source_id': '7ea0d842-e0e3-49a5-b94b-7fdd4fbd26b5', 'file_type': 'application/pdf'}) -> Structure-aware retrieval-augmented language model ({'creation_date': '2024-09-04', 'last_modified_date': '2024-08-28', 'file_size': 1750518, 'file_path': 'c:\\\\Users\\\\jayit\\\\GCCD\\\\triplet-store-graph-rag\\\\data\\\\Graph_Retrieval-Augmented_Generation_A_Survey.pdf', 'name': 'Structure-aware retrieval-augmented language model', 'file_name': 'Graph_Retrieval-Augmented_Generation_A_Survey.pdf', 'page_label': '36', 'triplet_source_id': '7ea0d842-e0e3-49a5-b94b-7fdd4fbd26b5', 'file_type': 'application/pdf'})\n",
      "Shangyu wu ({'creation_date': '2024-09-04', 'last_modified_date': '2024-08-28', 'file_size': 1750518, 'file_path': 'c:\\\\Users\\\\jayit\\\\GCCD\\\\triplet-store-graph-rag\\\\data\\\\Graph_Retrieval-Augmented_Generation_A_Survey.pdf', 'name': 'Shangyu wu', 'file_name': 'Graph_Retrieval-Augmented_Generation_A_Survey.pdf', 'page_label': '38', 'triplet_source_id': '44560e13-a048-4b9f-b3e0-7cf8636986a9', 'file_type': 'application/pdf'}) -> Authored ({'creation_date': '2024-09-04', 'last_modified_date': '2024-08-28', 'file_size': 1750518, 'file_path': 'c:\\\\Users\\\\jayit\\\\GCCD\\\\triplet-store-graph-rag\\\\data\\\\Graph_Retrieval-Augmented_Generation_A_Survey.pdf', 'file_name': 'Graph_Retrieval-Augmented_Generation_A_Survey.pdf', 'page_label': '38', 'triplet_source_id': '44560e13-a048-4b9f-b3e0-7cf8636986a9', 'file_type': 'application/pdf'}) -> Retrieval-augmented generation for natural language processing ({'creation_date': '2024-09-04', 'last_modified_date': '2024-08-28', 'file_size': 1750518, 'file_path': 'c:\\\\Users\\\\jayit\\\\GCCD\\\\triplet-store-graph-rag\\\\data\\\\Graph_Retrieval-Augmented_Generation_A_Survey.pdf', 'name': 'Retrieval-augmented generation for natural language processing', 'file_name': 'Graph_Retrieval-Augmented_Generation_A_Survey.pdf', 'page_label': '38', 'triplet_source_id': '44560e13-a048-4b9f-b3e0-7cf8636986a9', 'file_type': 'application/pdf'})\n"
     ]
    }
   ],
   "source": [
    "# Define retriever\n",
    "retriever = index_pg.as_retriever(\n",
    "    include_text=False,  # include source text in returned nodes, default True\n",
    ")\n",
    "results = retriever.retrieve(\"What is Graph Retrieval-Augmented Generation?\")\n",
    "for record in results:\n",
    "    print(record.text)"
   ]
  },
  {
   "cell_type": "code",
   "execution_count": 11,
   "metadata": {},
   "outputs": [
    {
     "data": {
      "text/markdown": [
       "Graph Retrieval-Augmented Generation (GraphRAG) is a framework designed for enhancing question-answering tasks by integrating relational knowledge from graph databases. It operates in three main stages: G-Indexing, G-Retrieval, and G-Generation. This approach emphasizes the retrieval of structured graph data, distinguishing it from traditional text-based methods. GraphRAG incorporates various enhancement techniques, such as query and knowledge enhancements, to improve the relevance and accuracy of the generated responses. By transforming retrieved graph information into formats suitable for language model generators, it aims to leverage the relationships and structural information inherent in graph data to enhance overall task performance."
      ],
      "text/plain": [
       "<IPython.core.display.Markdown object>"
      ]
     },
     "metadata": {},
     "output_type": "display_data"
    }
   ],
   "source": [
    "# Question answering\n",
    "query_engine = index_pg.as_query_engine(include_text=True)\n",
    "response = query_engine.query(\"What is Graph Retrieval-Augmented Generation?\")\n",
    "display(Markdown(f\"{response}\"))"
   ]
  },
  {
   "cell_type": "code",
   "execution_count": 14,
   "metadata": {},
   "outputs": [
    {
     "data": {
      "text/markdown": [
       "Query-Focused Summarization is a process that involves generating summaries of documents or information that are specifically tailored to address a particular query or information need. This approach enhances the relevance of the summary by ensuring that it captures the most pertinent information related to the user's query, rather than providing a general overview of the entire content. It typically utilizes techniques such as knowledge graphs and retrieval-augmented generation to improve the quality and relevance of the summaries produced."
      ],
      "text/plain": [
       "<IPython.core.display.Markdown object>"
      ]
     },
     "metadata": {},
     "output_type": "display_data"
    }
   ],
   "source": [
    "response = query_engine.query(\"What is Query-Focused Summarization?\")\n",
    "display(Markdown(f\"{response}\"))"
   ]
  },
  {
   "cell_type": "code",
   "execution_count": null,
   "metadata": {},
   "outputs": [],
   "source": []
  }
 ],
 "metadata": {
  "kernelspec": {
   "display_name": "venv",
   "language": "python",
   "name": "python3"
  },
  "language_info": {
   "codemirror_mode": {
    "name": "ipython",
    "version": 3
   },
   "file_extension": ".py",
   "mimetype": "text/x-python",
   "name": "python",
   "nbconvert_exporter": "python",
   "pygments_lexer": "ipython3",
   "version": "3.10.4"
  }
 },
 "nbformat": 4,
 "nbformat_minor": 2
}
