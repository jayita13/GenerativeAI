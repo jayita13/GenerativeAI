{
 "cells": [
  {
   "cell_type": "code",
   "execution_count": 1,
   "metadata": {},
   "outputs": [],
   "source": [
    "from llama_index.core import SimpleDirectoryReader\n",
    "from dotenv import load_dotenv\n",
    "load_dotenv()\n",
    "from llama_index.core import Settings\n",
    "from IPython.display import Markdown, display\n",
    "from llama_index.core import StorageContext, load_index_from_storage\n",
    "from google.oauth2 import service_account\n",
    "from llama_index.llms.vertex import Vertex\n",
    "from llama_index.embeddings.vertex import VertexTextEmbedding\n",
    "import nest_asyncio\n",
    "nest_asyncio.apply()"
   ]
  },
  {
   "cell_type": "code",
   "execution_count": 2,
   "metadata": {},
   "outputs": [],
   "source": [
    "from llama_index.vector_stores.neo4jvector import Neo4jVectorStore\n",
    "from llama_index.core import VectorStoreIndex\n",
    "import os\n",
    "\n",
    "username = os.getenv(\"NEO4J_USERNAME\")\n",
    "password = os.getenv(\"NEO4J_PASSWORD\")\n",
    "url = os.getenv(\"NEO4J_URI\")"
   ]
  },
  {
   "cell_type": "code",
   "execution_count": 3,
   "metadata": {},
   "outputs": [],
   "source": [
    "documents = SimpleDirectoryReader(\n",
    "     input_files=[\"data/Graph_Retrieval-Augmented_Generation_A_Survey.pdf\"]\n",
    ").load_data()"
   ]
  },
  {
   "cell_type": "code",
   "execution_count": 4,
   "metadata": {},
   "outputs": [],
   "source": [
    "filename = \"caselaws-421916-cc2ca960f520.json\"\n",
    "credentials: service_account.Credentials = (\n",
    "    service_account.Credentials.from_service_account_file(filename)\n",
    ")"
   ]
  },
  {
   "cell_type": "code",
   "execution_count": 5,
   "metadata": {},
   "outputs": [],
   "source": [
    "llm = Vertex(\n",
    "        model=\"gemini-pro\", \n",
    "        project=credentials.project_id, credentials=credentials,\n",
    "        max_tokens=8000\n",
    "    )\n",
    "    \n",
    "Settings.llm = llm\n",
    "Settings.chunk_size = 512"
   ]
  },
  {
   "cell_type": "code",
   "execution_count": 6,
   "metadata": {},
   "outputs": [],
   "source": [
    "embed_model = VertexTextEmbedding(\n",
    "    model_name=\"textembedding-gecko@003\",\n",
    "    project=credentials.project_id, credentials=credentials\n",
    ")\n",
    "\n",
    "Settings.embed_model = embed_model"
   ]
  },
  {
   "cell_type": "code",
   "execution_count": 7,
   "metadata": {},
   "outputs": [
    {
     "name": "stderr",
     "output_type": "stream",
     "text": [
      "Received notification from DBMS server: {severity: WARNING} {code: Neo.ClientNotification.Statement.FeatureDeprecationWarning} {category: DEPRECATION} {title: This feature is deprecated and will be removed in future versions.} {description: CALL subquery without a variable scope clause is now deprecated. Use CALL (row) { ... }} {position: line: 1, column: 21, offset: 20} for query: \"UNWIND $data AS row CALL { WITH row MERGE (c:`Chunk` {id: row.id}) WITH c, row CALL db.create.setVectorProperty(c, 'embedding', row.embedding) YIELD node SET c.`text` = row.text SET c += row.metadata } IN TRANSACTIONS OF 1000 ROWS\"\n",
      "Received notification from DBMS server: {severity: WARNING} {code: Neo.ClientNotification.Statement.FeatureDeprecationWarning} {category: DEPRECATION} {title: This feature is deprecated and will be removed in future versions.} {description: The query used a deprecated procedure. ('db.create.setVectorProperty' has been replaced by 'db.create.setNodeVectorProperty')} {position: line: 1, column: 80, offset: 79} for query: \"UNWIND $data AS row CALL { WITH row MERGE (c:`Chunk` {id: row.id}) WITH c, row CALL db.create.setVectorProperty(c, 'embedding', row.embedding) YIELD node SET c.`text` = row.text SET c += row.metadata } IN TRANSACTIONS OF 1000 ROWS\"\n"
     ]
    }
   ],
   "source": [
    "# Extract graph from documents\n",
    "embed_dim = 768\n",
    "\n",
    "neo4j_vector_hybrid = Neo4jVectorStore(\n",
    "    username, password, url, embed_dim, hybrid_search=True\n",
    ")\n",
    "\n",
    "storage_context = StorageContext.from_defaults(\n",
    "    vector_store=neo4j_vector_hybrid\n",
    ")\n",
    "\n",
    "index = VectorStoreIndex.from_documents(\n",
    "    documents, storage_context=storage_context\n",
    ")"
   ]
  },
  {
   "cell_type": "code",
   "execution_count": 8,
   "metadata": {},
   "outputs": [],
   "source": [
    "index.storage_context.persist(persist_dir=\"./storage_hybrid_gemini\")\n",
    "index = load_index_from_storage(storage_context)"
   ]
  },
  {
   "cell_type": "code",
   "execution_count": 9,
   "metadata": {},
   "outputs": [
    {
     "name": "stderr",
     "output_type": "stream",
     "text": [
      "Received notification from DBMS server: {severity: WARNING} {code: Neo.ClientNotification.Statement.FeatureDeprecationWarning} {category: DEPRECATION} {title: This feature is deprecated and will be removed in future versions.} {description: CALL subquery without a variable scope clause is now deprecated. Use CALL () { ... }} {position: line: 1, column: 1, offset: 0} for query: 'CALL { CALL db.index.vector.queryNodes($index, $k, $embedding) YIELD node, score WITH collect({node:node, score:score}) AS nodes, max(score) AS max UNWIND nodes AS n RETURN n.node AS node, (n.score / max) AS score UNION CALL db.index.fulltext.queryNodes($keyword_index, $query, {limit: $k}) YIELD node, score WITH collect({node:node, score:score}) AS nodes, max(score) AS max UNWIND nodes AS n RETURN n.node AS node, (n.score / max) AS score } WITH node, max(score) AS score ORDER BY score DESC LIMIT $k RETURN node.`text` AS text, score, node.id AS id, node {.*, `text`: Null, `embedding`: Null, id: Null } AS metadata'\n"
     ]
    },
    {
     "name": "stdout",
     "output_type": "stream",
     "text": [
      "Graph-Based Indexing (G-Indexing). Graph-Based Indexing constitutes the initial phase of\n",
      "GraphRAG, aimed at identifying or constructing a graph database Gthat aligns with downstream\n",
      "tasks and establishing indices on it. The graph database can originate from public knowledge\n",
      "graphs [ 2,7,91,131,138,151], graph data [ 112], or be constructed based on proprietary data\n",
      "sources such as textual [ 25,43,80,160] or other forms of data [ 169]. The indexing process typi-\n",
      "cally includes mapping node and edge properties, establishing pointers between connected nodes,\n",
      "and organizing data to support fast traversal and retrieval operations. Indexing determines the\n",
      "granularity of the subsequent retrieval stage, playing a crucial role in enhancing query efficiency.\n",
      "Graph-Guided Retrieval (G-Retrieval). Following graph-based indexing, the graph-guided retrieval\n",
      "phase focuses on extracting pertinent information from the graph database in response to user\n",
      "queries or input. Specifically, given a user query 𝑞which is expressed in natural language, the\n",
      "retrieval stage aims to extract the most relevant elements (e.g., entities, triplets, paths, subgraphs)\n",
      "from knowledge graphs, which can be formulated as\n",
      "𝐺∗=G-Retriever(𝑞,G)\n",
      "=arg max\n",
      "𝐺⊆R(G)𝑝𝜃(𝐺|𝑞,G)\n",
      "=arg max\n",
      "𝐺⊆R(G)Sim(𝑞,𝐺),(5)\n",
      "where𝐺∗is the optimal retrieved graph elements and Sim(·,·)is a function that measures the\n",
      "semantic similarity between user queries and the graph data. R(·) represents a function to narrow\n",
      "down the search range of subgraphs, considering the efficiency.\n",
      "Graph-Enhanced Generation (G-Generation). The graph-enhanced generation phase involves\n",
      "synthesizing meaningful outputs or responses based on the retrieved graph data. This could\n",
      "encompass answering user queries, generating reports, etc.\n",
      "2020. What Dis-\n",
      "ease does this Patient Have? A Large-scale Open Domain Question Answering Dataset from Medical Exams.\n",
      "arXiv:2009.13081 [cs.CL] https://arxiv.org/abs/2009.13081\n",
      "[68] Mandar Joshi, Eunsol Choi, Daniel S. Weld, and Luke Zettlemoyer. 2017. TriviaQA: A Large Scale Distantly Supervised\n",
      "Challenge Dataset for Reading Comprehension. In Proceedings of the 55th Annual Meeting of the Association for\n",
      "Computational Linguistics, ACL 2017, Vancouver, Canada, July 30 - August 4, Volume 1: Long Papers . 1601–1611.\n",
      "[69] Vladimir Karpukhin, Barlas Oguz, Sewon Min, Patrick S. H. Lewis, Ledell Wu, Sergey Edunov, Danqi Chen, and Wen-\n",
      "tau Yih. 2020. Dense Passage Retrieval for Open-Domain Question Answering. In Proceedings of the 2020 Conference\n",
      "on Empirical Methods in Natural Language Processing, EMNLP 2020, Online, November 16-20, 2020 . 6769–6781.\n"
     ]
    }
   ],
   "source": [
    "# Define retriever\n",
    "retriever = index.as_retriever(\n",
    "    include_text=False,  # include source text in returned nodes, default True\n",
    ")\n",
    "results = retriever.retrieve(\"What is Graph Retrieval-Augmented Generation?\")\n",
    "for record in results:\n",
    "    print(record.text)"
   ]
  },
  {
   "cell_type": "code",
   "execution_count": 10,
   "metadata": {},
   "outputs": [
    {
     "name": "stderr",
     "output_type": "stream",
     "text": [
      "Received notification from DBMS server: {severity: WARNING} {code: Neo.ClientNotification.Statement.FeatureDeprecationWarning} {category: DEPRECATION} {title: This feature is deprecated and will be removed in future versions.} {description: CALL subquery without a variable scope clause is now deprecated. Use CALL () { ... }} {position: line: 1, column: 1, offset: 0} for query: 'CALL { CALL db.index.vector.queryNodes($index, $k, $embedding) YIELD node, score WITH collect({node:node, score:score}) AS nodes, max(score) AS max UNWIND nodes AS n RETURN n.node AS node, (n.score / max) AS score UNION CALL db.index.fulltext.queryNodes($keyword_index, $query, {limit: $k}) YIELD node, score WITH collect({node:node, score:score}) AS nodes, max(score) AS max UNWIND nodes AS n RETURN n.node AS node, (n.score / max) AS score } WITH node, max(score) AS score ORDER BY score DESC LIMIT $k RETURN node.`text` AS text, score, node.id AS id, node {.*, `text`: Null, `embedding`: Null, id: Null } AS metadata'\n"
     ]
    },
    {
     "data": {
      "text/markdown": [
       "## Graph Retrieval-Augmented Generation (GraphRAG)\n",
       "\n",
       "Graph Retrieval-Augmented Generation (GraphRAG) is a framework that combines graph-based indexing, retrieval, and generation to process information and generate responses. It consists of three main phases:\n",
       "\n",
       "**1. Graph-Based Indexing (G-Indexing):**\n",
       "\n",
       "* This phase focuses on identifying or constructing a graph database (G) that aligns with the downstream tasks.\n",
       "* The graph database can be sourced from public knowledge graphs, graph data, or constructed from proprietary data sources like textual or other forms of data.\n",
       "* The indexing process involves mapping node and edge properties, establishing pointers between connected nodes, and organizing data for efficient traversal and retrieval.\n",
       "* This phase determines the granularity of the subsequent retrieval stage and plays a crucial role in enhancing query efficiency.\n",
       "\n",
       "**2. Graph-Guided Retrieval (G-Retrieval):**\n",
       "\n",
       "* This phase focuses on extracting relevant information from the graph database in response to user queries or input.\n",
       "* Given a user query (q) expressed in natural language, the retrieval stage aims to extract the most relevant elements (e.g., entities, triplets, paths, subgraphs) from the knowledge graph.\n",
       "* This can be formulated as finding the optimal retrieved graph elements (G*) that maximize the semantic similarity between the user query and the graph data.\n",
       "* The search range of subgraphs is narrowed down using a function R(·) to ensure efficiency.\n",
       "\n",
       "**3. Graph-Enhanced Generation (G-Generation):**\n",
       "\n",
       "* This phase involves synthesizing meaningful outputs or responses based on the retrieved graph data.\n",
       "* This could encompass answering user queries, generating reports, etc.\n",
       "\n",
       "Overall, GraphRAG leverages the power of graph databases to enhance information retrieval and generation tasks, leading to more accurate and efficient results."
      ],
      "text/plain": [
       "<IPython.core.display.Markdown object>"
      ]
     },
     "metadata": {},
     "output_type": "display_data"
    }
   ],
   "source": [
    "# Question answering\n",
    "query_engine = index.as_query_engine(include_text=True)\n",
    "response = query_engine.query(\"What is Graph Retrieval-Augmented Generation?\")\n",
    "display(Markdown(f\"{response}\"))"
   ]
  },
  {
   "cell_type": "code",
   "execution_count": 11,
   "metadata": {},
   "outputs": [
    {
     "name": "stderr",
     "output_type": "stream",
     "text": [
      "Received notification from DBMS server: {severity: WARNING} {code: Neo.ClientNotification.Statement.FeatureDeprecationWarning} {category: DEPRECATION} {title: This feature is deprecated and will be removed in future versions.} {description: CALL subquery without a variable scope clause is now deprecated. Use CALL () { ... }} {position: line: 1, column: 1, offset: 0} for query: 'CALL { CALL db.index.vector.queryNodes($index, $k, $embedding) YIELD node, score WITH collect({node:node, score:score}) AS nodes, max(score) AS max UNWIND nodes AS n RETURN n.node AS node, (n.score / max) AS score UNION CALL db.index.fulltext.queryNodes($keyword_index, $query, {limit: $k}) YIELD node, score WITH collect({node:node, score:score}) AS nodes, max(score) AS max UNWIND nodes AS n RETURN n.node AS node, (n.score / max) AS score } WITH node, max(score) AS score ORDER BY score DESC LIMIT $k RETURN node.`text` AS text, score, node.id AS id, node {.*, `text`: Null, `embedding`: Null, id: Null } AS metadata'\n"
     ]
    },
    {
     "data": {
      "text/markdown": [
       "## Query-Focused Summarization (QFS)\n",
       "\n",
       "While the provided context doesn't directly address QFS techniques, it does mention Graph Retrieval-Augmented Generation (GraphRAG) as a solution for tasks like QFS. \n",
       "\n",
       "Here's what we can glean about QFS from the context:\n",
       "\n",
       "**Challenges:**\n",
       "\n",
       "* Traditional RAG models struggle with QFS due to limitations in retrieving relevant information.\n",
       "* They often rely on a subset of documents and fail to capture global information comprehensively.\n",
       "\n",
       "**GraphRAG as a solution:**\n",
       "\n",
       "* GraphRAG retrieves graph elements containing relational knowledge pertinent to a given query from a pre-constructed graph database.\n",
       "* This allows for a more accurate and comprehensive retrieval of information, including interconnections between texts.\n",
       "* Graph data offers abstraction and summarization of textual data, mitigating concerns of verbosity.\n",
       "* By retrieving subgraphs or graph communities, GraphRAG can access comprehensive information to effectively address the QFS challenge.\n",
       "\n",
       "**Further research:**\n",
       "\n",
       "The context highlights the need for further research in GraphRAG, particularly in areas like:\n",
       "\n",
       "* **Graph-Based Indexing (G-Indexing):** Optimizing methods for indexing and storing graph data for efficient retrieval.\n",
       "* **Graph-Guided Retrieval (G-Retrieval):** Developing advanced techniques for retrieving relevant graph elements based on the query and context.\n",
       "* **Graph-Enhanced Generation (G-Generation):** Utilizing retrieved graph information to generate summaries that are both informative and focused on the query.\n",
       "\n",
       "**Additional resources:**\n",
       "\n",
       "While the context doesn't provide specific QFS techniques, it offers valuable insights into the potential of GraphRAG for this task. \n",
       "\n",
       "For further information on QFS, you can explore the following resources:\n",
       "\n",
       "* **A Survey on Complex Knowledge Base Question Answering: Methods, Challenges and Solutions:** This paper provides a comprehensive overview of QFS methods, including those based on graph neural networks.\n",
       "* **Query Graph Generation for Answering Multi-hop Complex Questions from Knowledge Bases:** This paper explores the use of query graphs for QFS in the context of knowledge base question answering.\n",
       "* **Natural Questions: a Benchmark for Question Answering Research:** This paper introduces the Natural Questions dataset, a large-scale benchmark for QFS and other question answering tasks.\n",
       "\n",
       "By combining the insights from the provided context with these additional resources, you can gain a deeper understanding of QFS and explore the potential of GraphRAG for this task."
      ],
      "text/plain": [
       "<IPython.core.display.Markdown object>"
      ]
     },
     "metadata": {},
     "output_type": "display_data"
    }
   ],
   "source": [
    "response = query_engine.query(\"How to do Query-Focused Summarization (QFS)?\")\n",
    "display(Markdown(f\"{response}\"))"
   ]
  }
 ],
 "metadata": {
  "kernelspec": {
   "display_name": "venv",
   "language": "python",
   "name": "python3"
  },
  "language_info": {
   "codemirror_mode": {
    "name": "ipython",
    "version": 3
   },
   "file_extension": ".py",
   "mimetype": "text/x-python",
   "name": "python",
   "nbconvert_exporter": "python",
   "pygments_lexer": "ipython3",
   "version": "3.10.4"
  }
 },
 "nbformat": 4,
 "nbformat_minor": 2
}
