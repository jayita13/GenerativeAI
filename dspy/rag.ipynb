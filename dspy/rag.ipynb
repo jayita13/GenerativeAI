{
 "cells": [
  {
   "cell_type": "code",
   "execution_count": 1,
   "id": "7af769c2",
   "metadata": {},
   "outputs": [
    {
     "data": {
      "text/plain": [
       "True"
      ]
     },
     "execution_count": 1,
     "metadata": {},
     "output_type": "execute_result"
    }
   ],
   "source": [
    "import os\n",
    "from dotenv import load_dotenv\n",
    "load_dotenv()"
   ]
  },
  {
   "cell_type": "code",
   "execution_count": 3,
   "id": "72298e27",
   "metadata": {},
   "outputs": [
    {
     "data": {
      "text/plain": [
       "24"
      ]
     },
     "execution_count": 3,
     "metadata": {},
     "output_type": "execute_result"
    }
   ],
   "source": [
    "from langchain_community.document_loaders import PyPDFLoader\n",
    "file_path = \"label.pdf\"\n",
    "loader = PyPDFLoader(file_path)\n",
    "documents = loader.load()\n",
    "len(documents)  # Should return the number of pages in the PDF"
   ]
  },
  {
   "cell_type": "code",
   "execution_count": 4,
   "id": "92f12d6f",
   "metadata": {},
   "outputs": [
    {
     "data": {
      "text/plain": [
       "93"
      ]
     },
     "execution_count": 4,
     "metadata": {},
     "output_type": "execute_result"
    }
   ],
   "source": [
    "from langchain_text_splitters import RecursiveCharacterTextSplitter\n",
    "\n",
    "splitted_documents = [] \n",
    "chunk_size = 1000\n",
    "chunk_overlap = 200\n",
    "text_splitter = RecursiveCharacterTextSplitter(chunk_size=chunk_size, chunk_overlap=chunk_overlap)\n",
    "sections = text_splitter.split_documents(documents)\n",
    "\n",
    "splitted_documents.extend(sections)\n",
    "\n",
    "len(splitted_documents)"
   ]
  },
  {
   "cell_type": "code",
   "execution_count": 5,
   "id": "513bbb75",
   "metadata": {},
   "outputs": [
    {
     "data": {
      "text/plain": [
       "Document(metadata={'producer': 'Adobe PDF Library 11.0', 'creator': 'Acrobat PDFMaker 11 for Word', 'creationdate': '2019-04-04T13:11:17-04:00', 'author': 'fda/cder', 'keywords': 'Ibrance (palbociclib) Capsules', 'moddate': '2024-06-17T21:57:57-04:00', 'subject': 'Ibrance (palbociclib) Capsules', 'title': 'label', 'source': 'label.pdf', 'total_pages': 24, 'page': 2, 'page_label': '3'}, page_content='If Grade 3 on Day 15, continue IBRANCE at current dose to complete \\ncycle and repeat complete blood count on Day 22. \\nIf Grade 4 on Day 22, see Grade 4 dose modification guidelines below. \\nConsider dose reduction in cases of prolonged (>1 week) recovery from \\nGrade 3 neutropenia or recurrent Grade 3 neutropenia on Day 1 of \\nsubsequent cycles. \\nGrade 3 \\nneutropeniab with \\nfever ≥38.5 ºC \\nand/or infection \\nAt any time: \\nWithhold IBRANCE until recovery to Grade ≤2. \\nResume at the next lower dose. \\nGrade 4 At any time: \\nWithhold IBRANCE until recovery to Grade ≤2. \\nResume at the next lower dose. \\nGrading according to CTCAE 4.0. \\nCTCAE=Common Terminology Criteria for Adverse Events; LLN=lower limit of normal. \\na\\t Table applies to all hematologic adverse reactions except lymphopenia (unless associated with clinical events, \\ne.g., opportunistic infections). \\nb\\t Absolute neutrophil count (ANC): Grade 1: ANC < LLN - 1500/mm3; Grade 2: ANC 1000 - <1500/mm3;')"
      ]
     },
     "execution_count": 5,
     "metadata": {},
     "output_type": "execute_result"
    }
   ],
   "source": [
    "splitted_documents[10]"
   ]
  },
  {
   "cell_type": "code",
   "execution_count": 8,
   "id": "5a3e3f16",
   "metadata": {},
   "outputs": [],
   "source": [
    "from langchain_community.vectorstores import Chroma\n",
    "from langchain_huggingface import HuggingFaceEmbeddings"
   ]
  },
  {
   "cell_type": "code",
   "execution_count": 10,
   "id": "c5a23af1",
   "metadata": {},
   "outputs": [
    {
     "name": "stderr",
     "output_type": "stream",
     "text": [
      "c:\\Users\\jayit\\GenerativeAI\\dspy\\venv\\lib\\site-packages\\huggingface_hub\\file_download.py:143: UserWarning: `huggingface_hub` cache-system uses symlinks by default to efficiently store duplicated files but your machine does not support them in C:\\Users\\jayit\\.cache\\huggingface\\hub\\models--Qwen--Qwen3-Embedding-0.6B. Caching files will still work but in a degraded version that might require more space on your disk. This warning can be disabled by setting the `HF_HUB_DISABLE_SYMLINKS_WARNING` environment variable. For more details, see https://huggingface.co/docs/huggingface_hub/how-to-cache#limitations.\n",
      "To support symlinks on Windows, you either need to activate Developer Mode or to run Python as an administrator. In order to activate developer mode, see this article: https://docs.microsoft.com/en-us/windows/apps/get-started/enable-your-device-for-development\n",
      "  warnings.warn(message)\n",
      "Xet Storage is enabled for this repo, but the 'hf_xet' package is not installed. Falling back to regular HTTP download. For better performance, install the package with: `pip install huggingface_hub[hf_xet]` or `pip install hf_xet`\n",
      "Xet Storage is enabled for this repo, but the 'hf_xet' package is not installed. Falling back to regular HTTP download. For better performance, install the package with: `pip install huggingface_hub[hf_xet]` or `pip install hf_xet`\n"
     ]
    }
   ],
   "source": [
    "persist_directory = \"embeddings_db\"\n",
    "embedding_function = HuggingFaceEmbeddings(model_name=\"Qwen/Qwen3-Embedding-0.6B\")"
   ]
  },
  {
   "cell_type": "code",
   "execution_count": 11,
   "id": "b178dee6",
   "metadata": {},
   "outputs": [],
   "source": [
    "vectordb = Chroma.from_documents(documents=splitted_documents, embedding=embedding_function, persist_directory=persist_directory)"
   ]
  },
  {
   "cell_type": "code",
   "execution_count": 13,
   "id": "95e3b094",
   "metadata": {},
   "outputs": [],
   "source": [
    "import dspy\n",
    "from langchain.retrievers.self_query.base import SelfQueryRetriever\n",
    "from langchain.chains.query_constructor.base import AttributeInfo\n",
    "groq_api_key = os.getenv(\"GROQ_API_KEY\")\n",
    "lm = dspy.GROQ(model='moonshotai/kimi-k2-instruct', api_key=groq_api_key)\n",
    "dspy.configure(lm=lm)"
   ]
  },
  {
   "cell_type": "code",
   "execution_count": null,
   "id": "331fdca7",
   "metadata": {},
   "outputs": [
    {
     "data": {
      "text/plain": [
       "Prediction(\n",
       "    response='New Delhi'\n",
       ")"
      ]
     },
     "execution_count": 26,
     "metadata": {},
     "output_type": "execute_result"
    }
   ],
   "source": [
    "question = \"What is capital of India?\"\n",
    "basic_chat = dspy.Predict(\"question -> response\")\n",
    "\n",
    "basic_chat(question=question)"
   ]
  },
  {
   "cell_type": "code",
   "execution_count": 27,
   "id": "49824fd7",
   "metadata": {},
   "outputs": [],
   "source": [
    "retriever = vectordb.as_retriever()\n",
    "\n",
    "def retrieve(inputs):\n",
    "  return [doc.page_content for doc in retriever.invoke(inputs[\"question\"])]"
   ]
  },
  {
   "cell_type": "code",
   "execution_count": 34,
   "id": "02d04136",
   "metadata": {},
   "outputs": [],
   "source": [
    "# Define our RAG module\n",
    "class RAG(dspy.Module):\n",
    "    def __init__(self):\n",
    "        sign = dspy.Signature(\n",
    "            \"context, question -> response\",\n",
    "            instructions=\"Answer the question only based on the provided context. Do not fetch answers from external sources.\",\n",
    "        )\n",
    "        self.response = dspy.Predict(sign)\n",
    "        \n",
    "    def forward(self, question):\n",
    "        context = retrieve({\"question\": question})\n",
    "        return self.response(context=context, question=question)"
   ]
  },
  {
   "cell_type": "code",
   "execution_count": 35,
   "id": "c0fc3624",
   "metadata": {},
   "outputs": [
    {
     "data": {
      "text/plain": [
       "Prediction(\n",
       "    response='The context provided does not contain any information about the capital of India.'\n",
       ")"
      ]
     },
     "execution_count": 35,
     "metadata": {},
     "output_type": "execute_result"
    }
   ],
   "source": [
    "rag = RAG()\n",
    "\n",
    "rag(question=question)"
   ]
  },
  {
   "cell_type": "code",
   "execution_count": 39,
   "id": "30c28f9d",
   "metadata": {},
   "outputs": [
    {
     "data": {
      "text/plain": [
       "Prediction(\n",
       "    response='Yes, IBRANCE can cause fatigue.'\n",
       ")"
      ]
     },
     "execution_count": 39,
     "metadata": {},
     "output_type": "execute_result"
    }
   ],
   "source": [
    "rag(question=\"Does Ibrance cause fatigue?\")"
   ]
  },
  {
   "cell_type": "code",
   "execution_count": 37,
   "id": "a7ccf2ab",
   "metadata": {},
   "outputs": [],
   "source": [
    "class COT_RAG(dspy.Module):\n",
    "    def __init__(self):\n",
    "        sign = dspy.Signature(\n",
    "            \"context, question -> response\",\n",
    "            instructions=\"Answer the question only based on the provided context. Do not fetch answers from external sources.\",\n",
    "        )\n",
    "        self.respond = dspy.ChainOfThought(sign)\n",
    "        \n",
    "    def forward(self, question):\n",
    "        context = retrieve({\"question\": question})\n",
    "        return self.respond(context=context, question=question) "
   ]
  },
  {
   "cell_type": "code",
   "execution_count": 38,
   "id": "0b1290f7",
   "metadata": {},
   "outputs": [
    {
     "data": {
      "text/plain": [
       "Prediction(\n",
       "    rationale='Response: The context provided does not mention the capital of India.',\n",
       "    response='Response: The context provided does not mention the capital of India.'\n",
       ")"
      ]
     },
     "execution_count": 38,
     "metadata": {},
     "output_type": "execute_result"
    }
   ],
   "source": [
    "cot_rag = COT_RAG()\n",
    "\n",
    "cot_rag(question=question)"
   ]
  },
  {
   "cell_type": "code",
   "execution_count": 40,
   "id": "eb52ba86",
   "metadata": {},
   "outputs": [
    {
     "data": {
      "text/plain": [
       "Prediction(\n",
       "    rationale='Reasoning: Let\\'s think step by step in order to determine whether IBRANCE causes fatigue. First, we need to look for any mention of fatigue or tiredness in the provided context. In [1], under the list of possible side effects, it explicitly states \"tiredness\" as a side effect. Similarly, in [2], under the common side effects, \"tiredness\" is again listed. Since \"tiredness\" is synonymous with fatigue, this confirms that IBRANCE can cause fatigue.',\n",
       "    response='Yes, IBRANCE can cause fatigue (tiredness) as a side effect.'\n",
       ")"
      ]
     },
     "execution_count": 40,
     "metadata": {},
     "output_type": "execute_result"
    }
   ],
   "source": [
    "cot_rag(question='Does Ibrance cause fatigue?')"
   ]
  },
  {
   "cell_type": "code",
   "execution_count": 44,
   "id": "84df244c",
   "metadata": {},
   "outputs": [
    {
     "data": {
      "text/plain": [
       "Prediction(\n",
       "    rationale='Reasoning: Let\\'s think step by step in order to determine how IBRANCE affects elderly patients. We need to look for any specific information in the context about elderly patients (those ≥65 years of age or ≥75 years of age) and how they respond to IBRANCE in terms of safety or effectiveness.\\n\\nLooking at the context, in section 8.5 \"Geriatric Use,\" it states: \"Of 444 patients who received IBRANCE in Study 1, 181 patients (41%) were ≥65 years of age and 48 patients (11%) were ≥75 years of age. Of 347 patients who received IBRANCE in Study 2, 86 patients (25%) were ≥65 years of age and',\n",
       "    response='Response: No overall differences in safety or effectiveness of IBRANCE were observed between elderly patients (≥65 or ≥75 years of age) and younger patients.'\n",
       ")"
      ]
     },
     "execution_count": 44,
     "metadata": {},
     "output_type": "execute_result"
    }
   ],
   "source": [
    "cot_rag(question='How does it affect elderly patients?')"
   ]
  },
  {
   "cell_type": "code",
   "execution_count": 46,
   "id": "c7b63992",
   "metadata": {},
   "outputs": [
    {
     "data": {
      "text/plain": [
       "Prediction(\n",
       "    rationale=\"Reasoning: Let's think step by step in order to determine how IBRANCE affects pediatric patients. The context mentions that toxicities in teeth independent of altered glucose metabolism were observed in rats, and it notes that other toxicities of potential concern to pediatric patients have not been evaluated in juvenile animals. Additionally, the pharmacokinetics of IBRANCE have not been evaluated in patients <18 years of age. Therefore, there is no specific information provided about how IBRANCE affects pediatric patients.\",\n",
       "    response='The pharmacokinetics of IBRANCE have not been evaluated in patients <18 years of age, and other toxicities of potential concern to pediatric patients have not been evaluated in juvenile animals.'\n",
       ")"
      ]
     },
     "execution_count": 46,
     "metadata": {},
     "output_type": "execute_result"
    }
   ],
   "source": [
    "cot_rag(question='How does it affect pediatric patients?')"
   ]
  },
  {
   "cell_type": "code",
   "execution_count": 47,
   "id": "0c58aaf3",
   "metadata": {},
   "outputs": [
    {
     "data": {
      "text/plain": [
       "Prediction(\n",
       "    rationale=\"Reasoning: Let's think step by step in order to determine how palbociclib affects the cell cycle. The context states that palbociclib is an inhibitor of cyclin-dependent kinases (CDK) 4 and 6. These kinases, along with cyclin D1, are involved in signaling pathways that lead to cellular proliferation. Specifically, palbociclib reduces cellular proliferation of estrogen receptor (ER)-positive breast cancer cell lines by blocking progression of the cell from G1 into S phase of the cell cycle. This indicates that palbociclib halts the cell cycle at the G1 phase, preventing cells from entering the S phase where DNA replication occurs.\",\n",
       "    response='Palbociclib blocks'\n",
       ")"
      ]
     },
     "execution_count": 47,
     "metadata": {},
     "output_type": "execute_result"
    }
   ],
   "source": [
    "cot_rag(question='How does it affect cell cycle?')"
   ]
  },
  {
   "cell_type": "code",
   "execution_count": 50,
   "id": "04e5ec15",
   "metadata": {},
   "outputs": [
    {
     "data": {
      "text/plain": [
       "Prediction(\n",
       "    rationale=\"Let's think step by step in order to determine whether IBRANCE can be passed with bodily fluids. We need to look for any mention in the context about transmission through bodily fluids such as blood, semen, or breast milk.\\n\\n1. The context mentions that it is not known if IBRANCE passes into breast milk, and advises against breastfeeding during treatment and for 3 weeks after the last dose. This suggests some concern about transmission via breast milk, a bodily fluid.\\n\\n2. There is no explicit mention of transmission through other bodily fluids like blood or semen in the provided context.\\n\\n3. The context does not provide any information confirming or denying transmission through other bodily fluids.\",\n",
       "    response='The context does not provide enough information to confirm whether IBR'\n",
       ")"
      ]
     },
     "execution_count": 50,
     "metadata": {},
     "output_type": "execute_result"
    }
   ],
   "source": [
    "cot_rag(question=\"Can it be passed with bodily fluids?\")"
   ]
  },
  {
   "cell_type": "code",
   "execution_count": 41,
   "id": "43cd7d93",
   "metadata": {},
   "outputs": [],
   "source": [
    "class ReAct_RAG(dspy.Module):\n",
    "    def __init__(self):\n",
    "        sign = dspy.Signature(\n",
    "            \"context, question -> response\",\n",
    "            instructions=\"Answer the question only based on the provided context. Do not fetch answers from external sources.\",\n",
    "        )\n",
    "        self.respond = dspy.ReAct(sign)\n",
    "        \n",
    "    def forward(self, question):\n",
    "        context = retrieve({\"question\": question})\n",
    "        return self.respond(context=context, question=question) "
   ]
  },
  {
   "cell_type": "code",
   "execution_count": 42,
   "id": "928a042b",
   "metadata": {},
   "outputs": [
    {
     "data": {
      "text/plain": [
       "Prediction(\n",
       "    rationale='Response: The context provided does not mention the capital of India.',\n",
       "    response='Response: The context provided does not mention the capital of India.'\n",
       ")"
      ]
     },
     "execution_count": 42,
     "metadata": {},
     "output_type": "execute_result"
    }
   ],
   "source": [
    "react_rag = COT_RAG()\n",
    "\n",
    "react_rag(question=question)"
   ]
  },
  {
   "cell_type": "code",
   "execution_count": 43,
   "id": "1d297a0d",
   "metadata": {},
   "outputs": [
    {
     "data": {
      "text/plain": [
       "Prediction(\n",
       "    rationale='Reasoning: Let\\'s think step by step in order to determine how IBRANCE works. The context provided does not explicitly describe the mechanism of action of IBRANCE. However, it does state that \"IBRANCE is a kinase inhibitor\" [2]. While the context does not elaborate further on what this means or how it treats cancer, this is the only relevant information provided about how IBRANCE works.',\n",
       "    response='IBRANCE is a kinase inhibitor.'\n",
       ")"
      ]
     },
     "execution_count": 43,
     "metadata": {},
     "output_type": "execute_result"
    }
   ],
   "source": [
    "react_rag(question=\"How does Ibrance work?\")"
   ]
  },
  {
   "cell_type": "code",
   "execution_count": 48,
   "id": "9f28c589",
   "metadata": {},
   "outputs": [
    {
     "data": {
      "text/plain": [
       "Prediction(\n",
       "    rationale=\"Reasoning: Let's think step by step in order to identify which medicines to avoid. The context mentions that IBRANCE and other medicines may affect each other, causing side effects. It also specifically advises avoiding grapefruit and grapefruit products during treatment with IBRANCE, as grapefruit may increase the amount of IBRANCE in the blood. Additionally, it instructs to tell the healthcare provider about all medicines taken, including prescription, over-the-counter medicines, vitamins, and herbal supplements, implying that some of these may interact with IBRANCE.\",\n",
       "    response='Avoid grapefruit and grapefruit products during treatment with IBRANCE. Also, inform your healthcare provider about all medicines you take, including prescription, over-the-counter medicines, vitamins, and herbal supplements, as some may'\n",
       ")"
      ]
     },
     "execution_count": 48,
     "metadata": {},
     "output_type": "execute_result"
    }
   ],
   "source": [
    "react_rag(question=\"Which medicines to avoid?\")"
   ]
  },
  {
   "cell_type": "code",
   "execution_count": 49,
   "id": "d9f84006",
   "metadata": {},
   "outputs": [
    {
     "data": {
      "text/plain": [
       "Prediction(\n",
       "    rationale=\"Let's think step by step in order to determine whether IBRANCE can be passed with bodily fluids. We need to look for any mention in the context about transmission through bodily fluids such as blood, semen, or breast milk.\\n\\n1. The context mentions that it is not known if IBRANCE passes into breast milk, and advises against breastfeeding during treatment and for 3 weeks after the last dose. This suggests some concern about transmission via breast milk, a bodily fluid.\\n\\n2. There is no explicit mention of transmission through other bodily fluids like blood or semen in the provided context.\\n\\n3. The context does not provide any information confirming or denying transmission through other bodily fluids.\",\n",
       "    response='The context does not provide enough information to confirm whether IBR'\n",
       ")"
      ]
     },
     "execution_count": 49,
     "metadata": {},
     "output_type": "execute_result"
    }
   ],
   "source": [
    "react_rag(question=\"Can it be passed with bodily fluids?\")"
   ]
  },
  {
   "cell_type": "code",
   "execution_count": null,
   "id": "fe818d45",
   "metadata": {},
   "outputs": [],
   "source": []
  }
 ],
 "metadata": {
  "kernelspec": {
   "display_name": "venv",
   "language": "python",
   "name": "python3"
  },
  "language_info": {
   "codemirror_mode": {
    "name": "ipython",
    "version": 3
   },
   "file_extension": ".py",
   "mimetype": "text/x-python",
   "name": "python",
   "nbconvert_exporter": "python",
   "pygments_lexer": "ipython3",
   "version": "3.10.4"
  }
 },
 "nbformat": 4,
 "nbformat_minor": 5
}
