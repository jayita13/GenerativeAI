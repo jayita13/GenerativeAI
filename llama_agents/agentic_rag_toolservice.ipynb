{
 "cells": [
  {
   "cell_type": "markdown",
   "id": "49814a62-0201-4d41-a449-c2c6b4ad2ced",
   "metadata": {},
   "source": [
    "# Build an Agentic RAG Service\n",
    "\n",
    "Setup an agent service that can interact with a tool service (containing RAG tools over annual reports).\n",
    "\n",
    "In this notebook, we:\n",
    "- Setup our indexes and query engine tools\n",
    "- Define our multi-agent framework\n",
    "  - A message queue.\n",
    "  - An agentic orchestrator.\n",
    "  - A tools service containing our query engine tools. This will act as a remote executor for tools\n",
    "  - Define meta-tools for our agents. These will make calls to the tools service instead of executing directly\n",
    "  - Our agent services. These wrap existing llama-index agents\n",
    "  - Put all this into a local launcher, to simulate one task passing through the system at a time."
   ]
  },
  {
   "cell_type": "code",
   "execution_count": 1,
   "id": "e33e5676-8d15-4372-bc32-8d43dd617b80",
   "metadata": {},
   "outputs": [],
   "source": [
    "import nest_asyncio\n",
    "\n",
    "nest_asyncio.apply()\n",
    "\n",
    "import os\n",
    "from dotenv import load_dotenv\n",
    "load_dotenv()\n",
    "\n",
    "OPENAI_API_KEY = os.getenv('OPENAI_API_KEY')"
   ]
  },
  {
   "cell_type": "markdown",
   "id": "8b4be8b8-3d1c-4a82-98f5-ec94d97a679e",
   "metadata": {},
   "source": [
    "## Load Data"
   ]
  },
  {
   "cell_type": "code",
   "execution_count": 2,
   "id": "1fe13aa4-55f7-4854-b2b7-b3ae02d8df75",
   "metadata": {},
   "outputs": [],
   "source": [
    "from llama_index.core import (\n",
    "    SimpleDirectoryReader,\n",
    "    VectorStoreIndex,\n",
    "    StorageContext,\n",
    "    load_index_from_storage,\n",
    "    Settings\n",
    ")\n",
    "\n",
    "from llama_index.core.tools import QueryEngineTool, ToolMetadata"
   ]
  },
  {
   "cell_type": "code",
   "execution_count": 3,
   "id": "dc27a6c2-2840-4705-b832-829a18c8571b",
   "metadata": {},
   "outputs": [],
   "source": [
    "try:\n",
    "    storage_context = StorageContext.from_defaults(persist_dir=\"./storage/q1-23\")\n",
    "    q1_23_index = load_index_from_storage(storage_context)\n",
    "\n",
    "    storage_context = StorageContext.from_defaults(persist_dir=\"./storage/q1-24\")\n",
    "    q1_24_index = load_index_from_storage(storage_context)\n",
    "\n",
    "    index_loaded = True\n",
    "except:\n",
    "    index_loaded = False"
   ]
  },
  {
   "cell_type": "code",
   "execution_count": 4,
   "id": "d17aba20-d21a-45c2-8c0d-4d7c2f52fc7b",
   "metadata": {},
   "outputs": [],
   "source": [
    "if not index_loaded:\n",
    "    # load data\n",
    "    q1_23_docs = SimpleDirectoryReader(\n",
    "        input_files=[\"./data/GOOG-10-Q-Q1-2023.pdf\"]\n",
    "    ).load_data()\n",
    "    q1_24_docs = SimpleDirectoryReader(\n",
    "        input_files=[\"./data/goog-10-q-q1-2024.pdf\"]\n",
    "    ).load_data()\n",
    "\n",
    "    # build index\n",
    "    q1_23_index = VectorStoreIndex.from_documents(q1_23_docs)\n",
    "    q1_24_index = VectorStoreIndex.from_documents(q1_24_docs)\n",
    "\n",
    "    # persist index\n",
    "    q1_23_index.storage_context.persist(persist_dir=\"./storage/q1-23\")\n",
    "    q1_24_index.storage_context.persist(persist_dir=\"./storage/q1-24\")"
   ]
  },
  {
   "cell_type": "code",
   "execution_count": 5,
   "id": "d2ceb92d-5cb3-415e-aa25-027b5d335ad5",
   "metadata": {},
   "outputs": [],
   "source": [
    "q1_23_engine = q1_23_index.as_query_engine(similarity_top_k=3)\n",
    "q1_24_engine = q1_24_index.as_query_engine(similarity_top_k=3)"
   ]
  },
  {
   "cell_type": "code",
   "execution_count": 6,
   "id": "b1358879-1530-4b4e-9204-0ca2ade4ef56",
   "metadata": {},
   "outputs": [],
   "source": [
    "query_engine_tools = [\n",
    "    QueryEngineTool(\n",
    "        query_engine=q1_23_engine,\n",
    "        metadata=ToolMetadata(\n",
    "            name=\"goog-q1-23\",\n",
    "            description=(\n",
    "                \"Provides information about google financials for first quarter of year 2023. \"\n",
    "                \"Use a detailed plain text question as input to the tool.\"\n",
    "            ),\n",
    "        ),\n",
    "    ),\n",
    "    QueryEngineTool(\n",
    "        query_engine=q1_24_engine,\n",
    "        metadata=ToolMetadata(\n",
    "            name=\"goog_q1_24\",\n",
    "            description=(\n",
    "                \"Provides information about Google financials for first quarter of year 2024. \"\n",
    "                \"Use a detailed plain text question as input to the tool.\"\n",
    "            ),\n",
    "        ),\n",
    "    ),\n",
    "]"
   ]
  },
  {
   "cell_type": "markdown",
   "id": "a8ed9ff6-7195-4213-b8a1-38dc06c3b25d",
   "metadata": {},
   "source": [
    "## Setup Agents\n",
    "\n",
    "Now that we've defined the query tools, we can wrap these under a `ToolService`."
   ]
  },
  {
   "cell_type": "code",
   "execution_count": 7,
   "id": "9adc290c-1650-480f-8cb7-b81a9f1e1b76",
   "metadata": {},
   "outputs": [],
   "source": [
    "from llama_agents import (\n",
    "    AgentService,\n",
    "    ToolService,\n",
    "    LocalLauncher,\n",
    "    MetaServiceTool,\n",
    "    ControlPlaneServer,\n",
    "    SimpleMessageQueue,\n",
    "    AgentOrchestrator,\n",
    ")\n",
    "\n",
    "from llama_index.core.agent import FunctionCallingAgentWorker\n",
    "from llama_index.llms.openai import OpenAI\n",
    "\n",
    "\n",
    "# create our multi-agent framework components\n",
    "message_queue = SimpleMessageQueue()\n",
    "control_plane = ControlPlaneServer(\n",
    "    message_queue=message_queue,\n",
    "    orchestrator=AgentOrchestrator(llm=OpenAI(model=\"gpt-4o\")),\n",
    ")\n",
    "\n",
    "# define Tool Service\n",
    "tool_service = ToolService(\n",
    "    message_queue=message_queue,\n",
    "    tools=query_engine_tools,\n",
    "    running=True,\n",
    "    step_interval=0.5,\n",
    ")\n",
    "\n",
    "# define meta-tools here\n",
    "meta_tools = [\n",
    "    await MetaServiceTool.from_tool_service(\n",
    "        t.metadata.name,\n",
    "        message_queue=message_queue,\n",
    "        tool_service=tool_service,\n",
    "    )\n",
    "    for t in query_engine_tools\n",
    "]\n",
    "\n",
    "\n",
    "# define Agent and agent service\n",
    "worker1 = FunctionCallingAgentWorker.from_tools(\n",
    "    meta_tools,\n",
    "    llm=OpenAI(),\n",
    ")\n",
    "agent1 = worker1.as_agent()\n",
    "agent_server_1 = AgentService(\n",
    "    agent=agent1,\n",
    "    message_queue=message_queue,\n",
    "    description=\"Used to answer questions over Google for financial quarters of year 2023 and 2024 documents\",\n",
    "    service_name=\"goog_q1_23_q1_24_analyst_agent\",\n",
    ")"
   ]
  },
  {
   "cell_type": "markdown",
   "id": "a19df0c2-7abe-4563-a4d8-3a47c13b65d0",
   "metadata": {},
   "source": [
    "## Launch agent \n",
    "\n",
    "With our services, orchestrator, control plane, and message queue defined, we can test our llama-agents network by passing in single messages, and observing the results.\n",
    "\n",
    "This is an excellent way to test, iterate, and debug your llama-agents system."
   ]
  },
  {
   "cell_type": "code",
   "execution_count": 8,
   "id": "7780a9e7",
   "metadata": {},
   "outputs": [],
   "source": [
    "import logging\n",
    "\n",
    "# change logging level to enable or disable more verbose logging\n",
    "logging.getLogger(\"llama_agents\").setLevel(logging.INFO)"
   ]
  },
  {
   "cell_type": "code",
   "execution_count": 9,
   "id": "7b41c86a-fd43-4f82-85ea-90f1208e810f",
   "metadata": {},
   "outputs": [],
   "source": [
    "## Define Launcher\n",
    "launcher = LocalLauncher(\n",
    "    [agent_server_1, tool_service],\n",
    "    control_plane,\n",
    "    message_queue,\n",
    ")"
   ]
  },
  {
   "cell_type": "code",
   "execution_count": 10,
   "id": "6ddf856b-762c-4608-ac02-c1d5fc75bc63",
   "metadata": {},
   "outputs": [
    {
     "name": "stderr",
     "output_type": "stream",
     "text": [
      "INFO:llama_agents.message_queues.simple - Consumer AgentService-ff09d4da-2e19-482f-9a20-7f2ecd736d73: goog_q1_23_q1_24_analyst_agent has been registered.\n",
      "INFO:llama_agents.message_queues.simple - Consumer ToolService-983c62e5-79b7-4f1e-b93f-e9cbadb4fc68: default_tool_service has been registered.\n",
      "INFO:llama_agents.message_queues.simple - Consumer 1c7a7c0a-65cf-43b3-9fb8-6045bc9320f0: human has been registered.\n",
      "INFO:llama_agents.message_queues.simple - Consumer ControlPlaneServer-4d05cde9-f47c-44e3-b55b-6749eb4fe1fc: control_plane has been registered.\n",
      "INFO:llama_agents.services.agent - goog_q1_23_q1_24_analyst_agent launch_local\n",
      "INFO:llama_agents.message_queues.base - Publishing message to 'control_plane' with action 'new_task'\n",
      "INFO:llama_agents.message_queues.simple - Launching message queue locally\n",
      "INFO:llama_agents.message_queues.base - Publishing message to 'goog_q1_23_q1_24_analyst_agent' with action 'new_task'\n",
      "INFO:llama_agents.message_queues.simple - Successfully published message 'control_plane' to consumer.\n",
      "INFO:llama_agents.services.agent - Created new task: eea128e9-a85e-4059-8e6c-cca8273fc1a3\n",
      "INFO:llama_agents.message_queues.simple - Successfully published message 'goog_q1_23_q1_24_analyst_agent' to consumer.\n",
      "INFO:llama_agents.message_queues.simple - Consumer MetaServiceTool-75cdbf61-3928-48b4-afe0-3b760adeda6b: MetaServiceTool-75cdbf61-3928-48b4-afe0-3b760adeda6b has been registered.\n",
      "INFO:llama_agents.message_queues.base - Publishing message to 'default_tool_service' with action 'new_tool_call'\n",
      "INFO:llama_agents.message_queues.simple - Consumer MetaServiceTool-e0a339aa-534e-4b19-afd6-34c18266539d: MetaServiceTool-e0a339aa-534e-4b19-afd6-34c18266539d has been registered.\n",
      "INFO:llama_agents.message_queues.base - Publishing message to 'default_tool_service' with action 'new_tool_call'\n",
      "INFO:llama_agents.message_queues.simple - Successfully published message 'default_tool_service' to consumer.\n",
      "INFO:llama_agents.message_queues.simple - Successfully published message 'default_tool_service' to consumer.\n",
      "INFO:llama_agents.services.tool - Processing tool call id 3139a817-e1b5-4ab6-bbfc-9a09ecf20939 with goog-q1-23\n",
      "INFO:llama_agents.message_queues.base - Publishing message to 'MetaServiceTool-75cdbf61-3928-48b4-afe0-3b760adeda6b' with action 'completed_tool_call'\n",
      "INFO:llama_agents.services.tool - Processing tool call id 5bc92f90-67f7-4a39-8a7f-fb036ca5d182 with goog_q1_24\n",
      "INFO:llama_agents.message_queues.simple - Successfully published message 'MetaServiceTool-75cdbf61-3928-48b4-afe0-3b760adeda6b' to consumer.\n",
      "INFO:llama_agents.message_queues.base - Publishing message to 'MetaServiceTool-e0a339aa-534e-4b19-afd6-34c18266539d' with action 'completed_tool_call'\n",
      "INFO:llama_agents.message_queues.simple - Successfully published message 'MetaServiceTool-e0a339aa-534e-4b19-afd6-34c18266539d' to consumer.\n",
      "INFO:llama_agents.message_queues.base - Publishing message to 'control_plane' with action 'completed_task'\n",
      "INFO:llama_agents.message_queues.base - Publishing message to 'human' with action 'completed_task'\n",
      "INFO:llama_agents.message_queues.simple - Successfully published message 'control_plane' to consumer.\n",
      "INFO:llama_agents.message_queues.simple - Successfully published message 'human' to consumer.\n"
     ]
    }
   ],
   "source": [
    "# query_str = \"What was Lyft's revenue growth in 2021?\"\n",
    "# gets stuck in a loop, should mostly be called once\n",
    "query_str = \"What are the risk factors for Google?\"\n",
    "result = launcher.launch_single(query_str)"
   ]
  },
  {
   "cell_type": "code",
   "execution_count": 11,
   "id": "b0b3688f-cad4-450e-81fa-037dd1190260",
   "metadata": {},
   "outputs": [
    {
     "name": "stdout",
     "output_type": "stream",
     "text": [
      "The risk factors for Google in the first quarter of 2023 include fluctuations in revenues and margins, changes in monetization trends, variability in foreign exchange rates, fluctuations in capital expenditures, potential increases in expenses, uncertainties related to compensation expenses, fluctuations in other income (expense), variations in the effective tax rate, seasonal fluctuations in internet usage and advertiser expenditures, and exposure to regulatory scrutiny and legal proceedings.\n",
      "\n",
      "In the first quarter of 2024, the risk factors include fluctuations in revenues due to changes in foreign currency exchange rates, pricing adjustments, general economic conditions, geopolitical events, regulations, new product and service launches, seasonality, and other external dynamics impacting advertiser, consumer, and enterprise spending.\n"
     ]
    }
   ],
   "source": [
    "print(result)"
   ]
  },
  {
   "cell_type": "code",
   "execution_count": 12,
   "id": "7bbe1896",
   "metadata": {},
   "outputs": [
    {
     "name": "stderr",
     "output_type": "stream",
     "text": [
      "INFO:llama_agents.message_queues.simple - Consumer AgentService-ff09d4da-2e19-482f-9a20-7f2ecd736d73: goog_q1_23_q1_24_analyst_agent has been registered.\n",
      "INFO:llama_agents.message_queues.simple - Consumer ToolService-983c62e5-79b7-4f1e-b93f-e9cbadb4fc68: default_tool_service has been registered.\n",
      "INFO:llama_agents.message_queues.simple - Consumer 2f1e87c7-2553-4903-b174-8ff1e8562d13: human has been registered.\n",
      "INFO:llama_agents.message_queues.simple - Consumer ControlPlaneServer-4d05cde9-f47c-44e3-b55b-6749eb4fe1fc: control_plane has been registered.\n",
      "INFO:llama_agents.services.agent - goog_q1_23_q1_24_analyst_agent launch_local\n",
      "INFO:llama_agents.message_queues.base - Publishing message to 'control_plane' with action 'new_task'\n",
      "INFO:llama_agents.message_queues.simple - Launching message queue locally\n",
      "INFO:llama_agents.message_queues.base - Publishing message to 'goog_q1_23_q1_24_analyst_agent' with action 'new_task'\n",
      "INFO:llama_agents.message_queues.simple - Successfully published message 'control_plane' to consumer.\n",
      "INFO:llama_agents.services.agent - Created new task: a77e14c9-156c-452e-be7b-3b65b6de89e9\n",
      "INFO:llama_agents.message_queues.simple - Successfully published message 'goog_q1_23_q1_24_analyst_agent' to consumer.\n",
      "INFO:llama_agents.message_queues.base - Publishing message to 'default_tool_service' with action 'new_tool_call'\n",
      "INFO:llama_agents.message_queues.simple - Successfully published message 'default_tool_service' to consumer.\n",
      "INFO:llama_agents.services.tool - Processing tool call id ca105ccb-b2d0-420c-bf1c-dd1aeba90567 with goog_q1_24\n",
      "INFO:llama_agents.message_queues.base - Publishing message to 'MetaServiceTool-e0a339aa-534e-4b19-afd6-34c18266539d' with action 'completed_tool_call'\n",
      "INFO:llama_agents.message_queues.simple - Successfully published message 'MetaServiceTool-e0a339aa-534e-4b19-afd6-34c18266539d' to consumer.\n",
      "INFO:llama_agents.message_queues.base - Publishing message to 'control_plane' with action 'completed_task'\n",
      "INFO:llama_agents.message_queues.base - Publishing message to 'human' with action 'completed_task'\n",
      "INFO:llama_agents.message_queues.simple - Successfully published message 'control_plane' to consumer.\n",
      "INFO:llama_agents.message_queues.simple - Successfully published message 'human' to consumer.\n"
     ]
    }
   ],
   "source": [
    "query_str = \"What was Google's revenue growth in q1 2024?\"\n",
    "result = launcher.launch_single(query_str)"
   ]
  },
  {
   "cell_type": "code",
   "execution_count": 13,
   "id": "2aa57e7f",
   "metadata": {},
   "outputs": [
    {
     "name": "stdout",
     "output_type": "stream",
     "text": [
      "The revenue growth for Google in the first quarter of 2024 was $10,752 million.\n"
     ]
    }
   ],
   "source": [
    "print(result)"
   ]
  }
 ],
 "metadata": {
  "kernelspec": {
   "display_name": "Python 3 (ipykernel)",
   "language": "python",
   "name": "python3"
  },
  "language_info": {
   "codemirror_mode": {
    "name": "ipython",
    "version": 3
   },
   "file_extension": ".py",
   "mimetype": "text/x-python",
   "name": "python",
   "nbconvert_exporter": "python",
   "pygments_lexer": "ipython3",
   "version": "3.10.4"
  }
 },
 "nbformat": 4,
 "nbformat_minor": 5
}
